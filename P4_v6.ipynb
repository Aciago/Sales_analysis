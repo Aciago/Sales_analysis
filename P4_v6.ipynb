{
 "cells": [
  {
   "cell_type": "markdown",
   "id": "af672362-08b5-400a-aa35-c079c584da53",
   "metadata": {
    "tags": []
   },
   "source": [
    "# Analysez les ventes de votre entreprise"
   ]
  },
  {
   "cell_type": "markdown",
   "id": "2a340e43",
   "metadata": {},
   "source": [
    "Scénario\n",
    "\n",
    "Vous êtes data analyst d'une grande chaîne de librairie, fraîchement embauché depuis une semaine ! Vous avez fait connaissance avec vos collègues, votre nouveau bureau, mais surtout, la machine à café high-tech :\n",
    "\n",
    "Mais revenons à votre mission : il est temps de mettre les mains dans le cambouis ! Le service Informatique vous a donné l’accès à la base de données des ventes. À vous de vous familiariser avec les données, et de les analyser. Votre manager souhaite que vous réalisiez une présentation pour vous \"faire la main\".\n",
    "\n",
    "Comme vous l'avez appris dans vos recherches avant de postuler, votre entreprise, \"Rester livres\" s'est d'abord développée dans une grande ville de France, avec plusieurs magasins, jusqu'à décider d'ouvrir une boutique en ligne. Son approche de la vente de livres en ligne, basée sur des algorithmes de recommandation, lui a valu un franc succès !"
   ]
  },
  {
   "cell_type": "markdown",
   "id": "1e5a74be",
   "metadata": {},
   "source": [
    "-----\n",
    "Analyse your company's sales\n",
    "\n",
    "You are a data analyst for a large bookstore chain, newly hired a week ago! You have met your colleagues, your new office, but above all, the high-tech coffee machine:\n",
    "\n",
    "But back to your assignment: it's time to get your hands dirty! The IT department has given you access to the sales database. Now it's your turn to familiarise yourself with the data and analyse it. Your manager wants you to make a presentation to \"get your hands dirty\".\n",
    "\n",
    "As you learned in your research before applying, your company, \"Rester livres\", first developed in a large French city, with several shops, until it decided to open an online shop. Its approach to selling books online, based on recommendation algorithms, has made it a great success!"
   ]
  },
  {
   "cell_type": "markdown",
   "id": "d8b1fcd1",
   "metadata": {
    "tags": []
   },
   "source": [
    "# Mission n° 1\n",
    "Avant de pouvoir entrer dans le vif du sujet, il vous faudra faire un peu de nettoyage ! Par exemple, vous devrez faire des choix quant au traitement des valeurs manquantes et des valeurs aberrantes.\\\n",
    "Before you can get to the heart of the matter, you will have to do some cleaning up! For example, you will have to make choices about how to handle missing values and outliers."
   ]
  },
  {
   "cell_type": "code",
   "execution_count": 1,
   "id": "b695e9fa",
   "metadata": {
    "tags": []
   },
   "outputs": [],
   "source": [
    "# importation des bibliothèques nécessaires\n",
    "# import libraries to use\n",
    "\n",
    "import os\n",
    "import pandas as pd\n",
    "import numpy as np\n",
    "\n",
    "import matplotlib.pyplot as plt\n",
    "import seaborn as sns\n",
    "\n",
    "import scipy.stats as st\n",
    "\n",
    "%matplotlib inline\n",
    "\n",
    "import datetime as dt\n",
    "from itertools import cycle, islice"
   ]
  },
  {
   "cell_type": "code",
   "execution_count": 2,
   "id": "3a0dce47",
   "metadata": {},
   "outputs": [
    {
     "name": "stdout",
     "output_type": "stream",
     "text": [
      "Old working directory is C:\\Users\\aciag\\Desktop\\IDF OpenClassrooms\\jupyter_notebooks\n",
      "Current working directory is C:\\Users\\aciag\\Desktop\\IDF OpenClassrooms\\P4_Mykhailytskyi_Mykola\n"
     ]
    }
   ],
   "source": [
    "# mise en place du dossier de travail, une meilleure approche comparée à celle utilisée dans P3\n",
    "# setting up working directory, a better approach compared to one used in P3\n",
    "\n",
    "print(\"Old working directory is \" + os.getcwd())\n",
    "\n",
    "os.chdir(r\"C:\\Users\\aciag\\Desktop\\IDF OpenClassrooms\\P4_Mykhailytskyi_Mykola\")\n",
    "\n",
    "print(\"Current working directory is \" + os.getcwd())"
   ]
  },
  {
   "cell_type": "code",
   "execution_count": 3,
   "id": "d5770a0a",
   "metadata": {},
   "outputs": [],
   "source": [
    "# lire les données des fichiers csv dans pd dfs\n",
    "# read data from csv files into pd dfs\n",
    "\n",
    "customers = pd.read_csv(r\"data/customers.csv\")\n",
    "products = pd.read_csv(r\"data/products.csv\")\n",
    "transactions = pd.read_csv(r\"data/transactions.csv\")"
   ]
  },
  {
   "cell_type": "code",
   "execution_count": 4,
   "id": "510b253b",
   "metadata": {
    "tags": []
   },
   "outputs": [
    {
     "name": "stdout",
     "output_type": "stream",
     "text": [
      "  client_id sex  birth\n",
      "0    c_4410   f   1967\n",
      "1    c_7839   f   1975\n",
      "2    c_1699   f   1984\n",
      "3    c_5961   f   1962\n",
      "4    c_5320   m   1943\n",
      "\n",
      "\n",
      "DF shape is (8623, 3)\n",
      "\n",
      "\n",
      "<class 'pandas.core.frame.DataFrame'>\n",
      "RangeIndex: 8623 entries, 0 to 8622\n",
      "Data columns (total 3 columns):\n",
      " #   Column     Non-Null Count  Dtype \n",
      "---  ------     --------------  ----- \n",
      " 0   client_id  8623 non-null   object\n",
      " 1   sex        8623 non-null   object\n",
      " 2   birth      8623 non-null   int64 \n",
      "dtypes: int64(1), object(2)\n",
      "memory usage: 202.2+ KB\n",
      "None\n"
     ]
    }
   ],
   "source": [
    "# afficher les 5 premières lignes, la forme globale, les informations générales de DF\n",
    "# display first 5 rows, overall shape, general info of DF\n",
    "\n",
    "print(customers.head())\n",
    "print('\\n')\n",
    "print('DF shape is', customers.shape)\n",
    "print('\\n')\n",
    "print(customers.info())"
   ]
  },
  {
   "cell_type": "code",
   "execution_count": 5,
   "id": "c69731e1",
   "metadata": {},
   "outputs": [
    {
     "data": {
      "text/plain": [
       "client_id    0\n",
       "sex          0\n",
       "birth        0\n",
       "dtype: int64"
      ]
     },
     "execution_count": 5,
     "metadata": {},
     "output_type": "execute_result"
    }
   ],
   "source": [
    "# vérification des données NaN\n",
    "# check for NaN data\n",
    "\n",
    "customers.isna().sum()"
   ]
  },
  {
   "cell_type": "code",
   "execution_count": 6,
   "id": "cc765027",
   "metadata": {
    "tags": []
   },
   "outputs": [
    {
     "name": "stdout",
     "output_type": "stream",
     "text": [
      "count       8623\n",
      "unique      8623\n",
      "top       c_3271\n",
      "freq           1\n",
      "Name: client_id, dtype: object\n",
      "\n",
      "count     8623\n",
      "unique       2\n",
      "top          f\n",
      "freq      4491\n",
      "Name: sex, dtype: object\n",
      "\n",
      "count    8623.000000\n",
      "mean     1978.280877\n",
      "std        16.919535\n",
      "min      1929.000000\n",
      "25%      1966.000000\n",
      "50%      1979.000000\n",
      "75%      1992.000000\n",
      "max      2004.000000\n",
      "Name: birth, dtype: float64\n"
     ]
    }
   ],
   "source": [
    "# vérifier les valeurs aberrantes et la distribution\n",
    "# check for outliers and distribution\n",
    "\n",
    "print(customers['client_id'].describe())\n",
    "print()\n",
    "print(customers['sex'].describe())\n",
    "print()\n",
    "print(customers['birth'].describe())"
   ]
  },
  {
   "cell_type": "markdown",
   "id": "3c1aee70-6649-445f-8387-9994045f33ec",
   "metadata": {},
   "source": [
    "Nous pouvons voir que le cadre de données des clients n'a pas de valeurs manquantes. Il y a plus de clients de sexe féminin que de sexe masculin. Le client le plus âgé est né en 1929, le plus jeune en 2004. Nous pourrions avoir besoin de convertir l'année de naissance en âge pour de meilleurs calculs.\n",
    "\n",
    "We can see that customers dataframe has no missing values. There are more female customers than male ones. Oldest customer born in 1929, yongest in 2004. We might need to convert Birth Year into Age for better calculations."
   ]
  },
  {
   "cell_type": "code",
   "execution_count": 7,
   "id": "fe10717b",
   "metadata": {
    "tags": []
   },
   "outputs": [
    {
     "name": "stdout",
     "output_type": "stream",
     "text": [
      "  id_prod  price  categ\n",
      "0  0_1421  19.99      0\n",
      "1  0_1368   5.13      0\n",
      "2   0_731  17.99      0\n",
      "3   1_587   4.99      1\n",
      "4  0_1507   3.99      0\n",
      "\n",
      "\n",
      "DF shape is (3287, 3)\n",
      "\n",
      "\n",
      "<class 'pandas.core.frame.DataFrame'>\n",
      "RangeIndex: 3287 entries, 0 to 3286\n",
      "Data columns (total 3 columns):\n",
      " #   Column   Non-Null Count  Dtype  \n",
      "---  ------   --------------  -----  \n",
      " 0   id_prod  3287 non-null   object \n",
      " 1   price    3287 non-null   float64\n",
      " 2   categ    3287 non-null   int64  \n",
      "dtypes: float64(1), int64(1), object(1)\n",
      "memory usage: 77.2+ KB\n",
      "None\n"
     ]
    }
   ],
   "source": [
    "# afficher les 5 premières lignes, la forme globale, les informations générales de DF\n",
    "# display first 5 rows, overall shape, general info of DF\n",
    "\n",
    "print(products.head())\n",
    "print('\\n')\n",
    "print('DF shape is', products.shape)\n",
    "print('\\n')\n",
    "print(products.info())"
   ]
  },
  {
   "cell_type": "code",
   "execution_count": 8,
   "id": "02993fb4",
   "metadata": {},
   "outputs": [
    {
     "data": {
      "text/plain": [
       "id_prod    0\n",
       "price      0\n",
       "categ      0\n",
       "dtype: int64"
      ]
     },
     "execution_count": 8,
     "metadata": {},
     "output_type": "execute_result"
    }
   ],
   "source": [
    "# vérification des données NaN\n",
    "# check for NaN data\n",
    "\n",
    "products.isna().sum()"
   ]
  },
  {
   "cell_type": "code",
   "execution_count": 9,
   "id": "79f5e2fc",
   "metadata": {
    "tags": []
   },
   "outputs": [
    {
     "name": "stdout",
     "output_type": "stream",
     "text": [
      "count       3287\n",
      "unique      3287\n",
      "top       0_1114\n",
      "freq           1\n",
      "Name: id_prod, dtype: object\n",
      "\n",
      "count    3287.000000\n",
      "mean       21.856641\n",
      "std        29.847908\n",
      "min        -1.000000\n",
      "25%         6.990000\n",
      "50%        13.060000\n",
      "75%        22.990000\n",
      "max       300.000000\n",
      "Name: price, dtype: float64\n",
      "\n",
      "count    3287.000000\n",
      "mean        0.370246\n",
      "std         0.615387\n",
      "min         0.000000\n",
      "25%         0.000000\n",
      "50%         0.000000\n",
      "75%         1.000000\n",
      "max         2.000000\n",
      "Name: categ, dtype: float64\n"
     ]
    }
   ],
   "source": [
    "# vérifier les valeurs aberrantes et la distribution\n",
    "# check for outliers and distribution\n",
    "\n",
    "print(products['id_prod'].describe())\n",
    "print()\n",
    "print(products['price'].describe())\n",
    "print()\n",
    "print(products['categ'].describe())"
   ]
  },
  {
   "cell_type": "markdown",
   "id": "dd921d9c-2476-4307-af9f-da79ca56ed65",
   "metadata": {},
   "source": [
    "Nous pouvons voir que le cadre de données des produits n'a pas non plus de valeurs manquantes. La description montre une anomalie dans la valeur du prix minimal, ce qui doit être examiné.\n",
    "\n",
    "We can see that products dataframe also has no missing values. Describe shows anomaly in minimal price value, this is needs to be investigated."
   ]
  },
  {
   "cell_type": "code",
   "execution_count": 10,
   "id": "f82a6829",
   "metadata": {},
   "outputs": [
    {
     "data": {
      "text/html": [
       "<div>\n",
       "<style scoped>\n",
       "    .dataframe tbody tr th:only-of-type {\n",
       "        vertical-align: middle;\n",
       "    }\n",
       "\n",
       "    .dataframe tbody tr th {\n",
       "        vertical-align: top;\n",
       "    }\n",
       "\n",
       "    .dataframe thead th {\n",
       "        text-align: right;\n",
       "    }\n",
       "</style>\n",
       "<table border=\"1\" class=\"dataframe\">\n",
       "  <thead>\n",
       "    <tr style=\"text-align: right;\">\n",
       "      <th></th>\n",
       "      <th>id_prod</th>\n",
       "      <th>price</th>\n",
       "      <th>categ</th>\n",
       "    </tr>\n",
       "  </thead>\n",
       "  <tbody>\n",
       "    <tr>\n",
       "      <th>731</th>\n",
       "      <td>T_0</td>\n",
       "      <td>-1.0</td>\n",
       "      <td>0</td>\n",
       "    </tr>\n",
       "  </tbody>\n",
       "</table>\n",
       "</div>"
      ],
      "text/plain": [
       "    id_prod  price  categ\n",
       "731     T_0   -1.0      0"
      ]
     },
     "execution_count": 10,
     "metadata": {},
     "output_type": "execute_result"
    }
   ],
   "source": [
    "# trouver tous les prix mal étiquetés (zéro ou moins)\n",
    "# find all wrong-labelled prices (zero or below)\n",
    "\n",
    "products[products['price'] < 0]"
   ]
  },
  {
   "cell_type": "code",
   "execution_count": 11,
   "id": "3faa2065",
   "metadata": {},
   "outputs": [],
   "source": [
    "# supprimer les données de prix incorrectes, nulles ou inférieures\n",
    "# remove incorrect price data, zero or below\n",
    "\n",
    "products = products[products['price'] >= 0]"
   ]
  },
  {
   "cell_type": "markdown",
   "id": "40ce2f5f-4f47-4d94-bd99-9dafc645573f",
   "metadata": {},
   "source": [
    "L'enquête montre qu'il n'y a qu'une seule ligne avec des données erronées.\n",
    "Nous supprimons cette ligne.\n",
    "\n",
    "Investigation shows there is only one line with erronious data.\n",
    "We delete this line."
   ]
  },
  {
   "cell_type": "code",
   "execution_count": 12,
   "id": "810451e8",
   "metadata": {
    "tags": []
   },
   "outputs": [
    {
     "name": "stdout",
     "output_type": "stream",
     "text": [
      "  id_prod                        date session_id client_id\n",
      "0  0_1483  2021-04-10 18:37:28.723910    s_18746    c_4450\n",
      "1   2_226  2022-02-03 01:55:53.276402   s_159142     c_277\n",
      "2   1_374  2021-09-23 15:13:46.938559    s_94290    c_4270\n",
      "3  0_2186  2021-10-17 03:27:18.783634   s_105936    c_4597\n",
      "4  0_1351  2021-07-17 20:34:25.800563    s_63642    c_1242\n",
      "\n",
      "\n",
      "DF shape is (337016, 4)\n",
      "\n",
      "\n",
      "<class 'pandas.core.frame.DataFrame'>\n",
      "RangeIndex: 337016 entries, 0 to 337015\n",
      "Data columns (total 4 columns):\n",
      " #   Column      Non-Null Count   Dtype \n",
      "---  ------      --------------   ----- \n",
      " 0   id_prod     337016 non-null  object\n",
      " 1   date        337016 non-null  object\n",
      " 2   session_id  337016 non-null  object\n",
      " 3   client_id   337016 non-null  object\n",
      "dtypes: object(4)\n",
      "memory usage: 10.3+ MB\n",
      "None\n"
     ]
    }
   ],
   "source": [
    "# afficher les 5 premières lignes, la forme globale, les informations générales de DF\n",
    "# display first 5 rows, overall shape, general info of DF\n",
    "\n",
    "print(transactions.head())\n",
    "print('\\n')\n",
    "print('DF shape is', transactions.shape)\n",
    "print('\\n')\n",
    "print(transactions.info())"
   ]
  },
  {
   "cell_type": "code",
   "execution_count": 13,
   "id": "737253ad",
   "metadata": {},
   "outputs": [
    {
     "data": {
      "text/plain": [
       "id_prod       0\n",
       "date          0\n",
       "session_id    0\n",
       "client_id     0\n",
       "dtype: int64"
      ]
     },
     "execution_count": 13,
     "metadata": {},
     "output_type": "execute_result"
    }
   ],
   "source": [
    "# vérification des données NaN\n",
    "# check for NaN data\n",
    "\n",
    "transactions.isna().sum()"
   ]
  },
  {
   "cell_type": "code",
   "execution_count": 14,
   "id": "c037c103",
   "metadata": {
    "tags": []
   },
   "outputs": [
    {
     "name": "stdout",
     "output_type": "stream",
     "text": [
      "count     337016\n",
      "unique      3266\n",
      "top        1_369\n",
      "freq        1081\n",
      "Name: id_prod, dtype: object\n",
      "\n",
      "count                              337016\n",
      "unique                             336855\n",
      "top       test_2021-03-01 02:30:02.237413\n",
      "freq                                   13\n",
      "Name: date, dtype: object\n",
      "\n",
      "count     337016\n",
      "unique    169195\n",
      "top          s_0\n",
      "freq         200\n",
      "Name: session_id, dtype: object\n",
      "\n",
      "count     337016\n",
      "unique      8602\n",
      "top       c_1609\n",
      "freq       12855\n",
      "Name: client_id, dtype: object\n"
     ]
    }
   ],
   "source": [
    "# vérifier les valeurs aberrantes et la distribution\n",
    "# check for outliers and distribution\n",
    "\n",
    "print(transactions['id_prod'].describe())\n",
    "print()\n",
    "print(transactions['date'].describe())\n",
    "print()\n",
    "print(transactions['session_id'].describe())\n",
    "print()\n",
    "print(transactions['client_id'].describe())"
   ]
  },
  {
   "cell_type": "markdown",
   "id": "7bbf4d25-1396-4729-ad0a-e5dcb37bbfc0",
   "metadata": {},
   "source": [
    "Nous pouvons voir que les transactions dataframe n'ont pas non plus de valeurs manquantes. Cependant, il y a deux choses importantes ici :\n",
    "- la colonne datetime contient des données \"test\". Cela doit être examiné.\n",
    "- Le nombre unique de id_prod ne correspond pas à la base de données des produits (3266 produits dans les transactions, 3287 produits dans la base de données des produits). Cela doit être vérifié.\n",
    "\n",
    "We can see that transactions dataframe also has no missing values. However 2 important things here are:\n",
    "- datetime column contains \"test\" data. This needs to be investigated.\n",
    "- unique count of id_prod does not match products database (3266 products in transactions, 3287 products in products database). This needs to be investigated."
   ]
  },
  {
   "cell_type": "code",
   "execution_count": 15,
   "id": "fb84bdb9",
   "metadata": {},
   "outputs": [
    {
     "data": {
      "text/html": [
       "<div>\n",
       "<style scoped>\n",
       "    .dataframe tbody tr th:only-of-type {\n",
       "        vertical-align: middle;\n",
       "    }\n",
       "\n",
       "    .dataframe tbody tr th {\n",
       "        vertical-align: top;\n",
       "    }\n",
       "\n",
       "    .dataframe thead th {\n",
       "        text-align: right;\n",
       "    }\n",
       "</style>\n",
       "<table border=\"1\" class=\"dataframe\">\n",
       "  <thead>\n",
       "    <tr style=\"text-align: right;\">\n",
       "      <th></th>\n",
       "      <th>id_prod</th>\n",
       "      <th>date</th>\n",
       "      <th>session_id</th>\n",
       "      <th>client_id</th>\n",
       "    </tr>\n",
       "  </thead>\n",
       "  <tbody>\n",
       "    <tr>\n",
       "      <th>1431</th>\n",
       "      <td>T_0</td>\n",
       "      <td>test_2021-03-01 02:30:02.237420</td>\n",
       "      <td>s_0</td>\n",
       "      <td>ct_1</td>\n",
       "    </tr>\n",
       "    <tr>\n",
       "      <th>2365</th>\n",
       "      <td>T_0</td>\n",
       "      <td>test_2021-03-01 02:30:02.237446</td>\n",
       "      <td>s_0</td>\n",
       "      <td>ct_1</td>\n",
       "    </tr>\n",
       "    <tr>\n",
       "      <th>2895</th>\n",
       "      <td>T_0</td>\n",
       "      <td>test_2021-03-01 02:30:02.237414</td>\n",
       "      <td>s_0</td>\n",
       "      <td>ct_1</td>\n",
       "    </tr>\n",
       "    <tr>\n",
       "      <th>5955</th>\n",
       "      <td>T_0</td>\n",
       "      <td>test_2021-03-01 02:30:02.237441</td>\n",
       "      <td>s_0</td>\n",
       "      <td>ct_0</td>\n",
       "    </tr>\n",
       "    <tr>\n",
       "      <th>7283</th>\n",
       "      <td>T_0</td>\n",
       "      <td>test_2021-03-01 02:30:02.237434</td>\n",
       "      <td>s_0</td>\n",
       "      <td>ct_1</td>\n",
       "    </tr>\n",
       "    <tr>\n",
       "      <th>...</th>\n",
       "      <td>...</td>\n",
       "      <td>...</td>\n",
       "      <td>...</td>\n",
       "      <td>...</td>\n",
       "    </tr>\n",
       "    <tr>\n",
       "      <th>332594</th>\n",
       "      <td>T_0</td>\n",
       "      <td>test_2021-03-01 02:30:02.237445</td>\n",
       "      <td>s_0</td>\n",
       "      <td>ct_0</td>\n",
       "    </tr>\n",
       "    <tr>\n",
       "      <th>332705</th>\n",
       "      <td>T_0</td>\n",
       "      <td>test_2021-03-01 02:30:02.237423</td>\n",
       "      <td>s_0</td>\n",
       "      <td>ct_1</td>\n",
       "    </tr>\n",
       "    <tr>\n",
       "      <th>332730</th>\n",
       "      <td>T_0</td>\n",
       "      <td>test_2021-03-01 02:30:02.237421</td>\n",
       "      <td>s_0</td>\n",
       "      <td>ct_1</td>\n",
       "    </tr>\n",
       "    <tr>\n",
       "      <th>333442</th>\n",
       "      <td>T_0</td>\n",
       "      <td>test_2021-03-01 02:30:02.237431</td>\n",
       "      <td>s_0</td>\n",
       "      <td>ct_1</td>\n",
       "    </tr>\n",
       "    <tr>\n",
       "      <th>335279</th>\n",
       "      <td>T_0</td>\n",
       "      <td>test_2021-03-01 02:30:02.237430</td>\n",
       "      <td>s_0</td>\n",
       "      <td>ct_0</td>\n",
       "    </tr>\n",
       "  </tbody>\n",
       "</table>\n",
       "<p>200 rows × 4 columns</p>\n",
       "</div>"
      ],
      "text/plain": [
       "       id_prod                             date session_id client_id\n",
       "1431       T_0  test_2021-03-01 02:30:02.237420        s_0      ct_1\n",
       "2365       T_0  test_2021-03-01 02:30:02.237446        s_0      ct_1\n",
       "2895       T_0  test_2021-03-01 02:30:02.237414        s_0      ct_1\n",
       "5955       T_0  test_2021-03-01 02:30:02.237441        s_0      ct_0\n",
       "7283       T_0  test_2021-03-01 02:30:02.237434        s_0      ct_1\n",
       "...        ...                              ...        ...       ...\n",
       "332594     T_0  test_2021-03-01 02:30:02.237445        s_0      ct_0\n",
       "332705     T_0  test_2021-03-01 02:30:02.237423        s_0      ct_1\n",
       "332730     T_0  test_2021-03-01 02:30:02.237421        s_0      ct_1\n",
       "333442     T_0  test_2021-03-01 02:30:02.237431        s_0      ct_1\n",
       "335279     T_0  test_2021-03-01 02:30:02.237430        s_0      ct_0\n",
       "\n",
       "[200 rows x 4 columns]"
      ]
     },
     "execution_count": 15,
     "metadata": {},
     "output_type": "execute_result"
    }
   ],
   "source": [
    "# trouver les données de test dans la colonne date\n",
    "# find test data in date col\n",
    "\n",
    "transactions[transactions['date'].apply(lambda date: 'test' in date)]"
   ]
  },
  {
   "cell_type": "code",
   "execution_count": 16,
   "id": "9660e9ac",
   "metadata": {},
   "outputs": [],
   "source": [
    "# filtrer les lignes de test\n",
    "# filter out test rows\n",
    "\n",
    "transactions = transactions[~transactions['date'].apply(lambda date: 'test' in date)]"
   ]
  },
  {
   "cell_type": "markdown",
   "id": "be2dc035-f149-4449-8a3b-baa8c0fcd741",
   "metadata": {},
   "source": [
    "Filtrez toutes les données dans les transactions par la colonne date, à l'intérieur de celle-ci ne sélectionnez que les lignes contenant str test dans la colonne date.\n",
    "Au total, 200 lignes de test. Nous supprimons toutes les lignes de test et sauvegardons uniquement les données du monde réel.\n",
    "Ensuite, nous convertissons la colonne date d'obj en datetime afin de calculer les dates.\n",
    "\n",
    "Filter all data in transactions by date column, inside this select only rows containing str test in column date.\n",
    "Overall 200 test rows. We delete all test rows and save only real world data.\n",
    "Afterwards we convert date column from obj to datetime in order to compute dates."
   ]
  },
  {
   "cell_type": "code",
   "execution_count": 17,
   "id": "093b47e8",
   "metadata": {},
   "outputs": [
    {
     "data": {
      "text/html": [
       "<div>\n",
       "<style scoped>\n",
       "    .dataframe tbody tr th:only-of-type {\n",
       "        vertical-align: middle;\n",
       "    }\n",
       "\n",
       "    .dataframe tbody tr th {\n",
       "        vertical-align: top;\n",
       "    }\n",
       "\n",
       "    .dataframe thead th {\n",
       "        text-align: right;\n",
       "    }\n",
       "</style>\n",
       "<table border=\"1\" class=\"dataframe\">\n",
       "  <thead>\n",
       "    <tr style=\"text-align: right;\">\n",
       "      <th></th>\n",
       "      <th>id_prod</th>\n",
       "      <th>date</th>\n",
       "      <th>session_id</th>\n",
       "      <th>client_id</th>\n",
       "    </tr>\n",
       "  </thead>\n",
       "  <tbody>\n",
       "    <tr>\n",
       "      <th>79892</th>\n",
       "      <td>0_1775</td>\n",
       "      <td>2022-02-28 23:59:58.040472</td>\n",
       "      <td>s_172423</td>\n",
       "      <td>c_1460</td>\n",
       "    </tr>\n",
       "    <tr>\n",
       "      <th>301528</th>\n",
       "      <td>0_1403</td>\n",
       "      <td>2022-02-28 23:59:02.381670</td>\n",
       "      <td>s_172423</td>\n",
       "      <td>c_1460</td>\n",
       "    </tr>\n",
       "    <tr>\n",
       "      <th>6245</th>\n",
       "      <td>0_1538</td>\n",
       "      <td>2022-02-28 23:57:12.741573</td>\n",
       "      <td>s_172424</td>\n",
       "      <td>c_1876</td>\n",
       "    </tr>\n",
       "    <tr>\n",
       "      <th>242599</th>\n",
       "      <td>1_370</td>\n",
       "      <td>2022-02-28 23:56:57.561424</td>\n",
       "      <td>s_172423</td>\n",
       "      <td>c_1460</td>\n",
       "    </tr>\n",
       "    <tr>\n",
       "      <th>208601</th>\n",
       "      <td>1_456</td>\n",
       "      <td>2022-02-28 23:56:57.196281</td>\n",
       "      <td>s_172422</td>\n",
       "      <td>c_5787</td>\n",
       "    </tr>\n",
       "    <tr>\n",
       "      <th>...</th>\n",
       "      <td>...</td>\n",
       "      <td>...</td>\n",
       "      <td>...</td>\n",
       "      <td>...</td>\n",
       "    </tr>\n",
       "    <tr>\n",
       "      <th>293481</th>\n",
       "      <td>0_1358</td>\n",
       "      <td>2021-03-01 00:05:18.801198</td>\n",
       "      <td>s_5</td>\n",
       "      <td>c_2033</td>\n",
       "    </tr>\n",
       "    <tr>\n",
       "      <th>180767</th>\n",
       "      <td>0_1458</td>\n",
       "      <td>2021-03-01 00:04:54.559692</td>\n",
       "      <td>s_4</td>\n",
       "      <td>c_7912</td>\n",
       "    </tr>\n",
       "    <tr>\n",
       "      <th>216737</th>\n",
       "      <td>0_1352</td>\n",
       "      <td>2021-03-01 00:02:38.311413</td>\n",
       "      <td>s_3</td>\n",
       "      <td>c_580</td>\n",
       "    </tr>\n",
       "    <tr>\n",
       "      <th>95285</th>\n",
       "      <td>0_1390</td>\n",
       "      <td>2021-03-01 00:02:26.047414</td>\n",
       "      <td>s_2</td>\n",
       "      <td>c_664</td>\n",
       "    </tr>\n",
       "    <tr>\n",
       "      <th>176588</th>\n",
       "      <td>0_1259</td>\n",
       "      <td>2021-03-01 00:01:07.843138</td>\n",
       "      <td>s_1</td>\n",
       "      <td>c_329</td>\n",
       "    </tr>\n",
       "  </tbody>\n",
       "</table>\n",
       "<p>336816 rows × 4 columns</p>\n",
       "</div>"
      ],
      "text/plain": [
       "       id_prod                       date session_id client_id\n",
       "79892   0_1775 2022-02-28 23:59:58.040472   s_172423    c_1460\n",
       "301528  0_1403 2022-02-28 23:59:02.381670   s_172423    c_1460\n",
       "6245    0_1538 2022-02-28 23:57:12.741573   s_172424    c_1876\n",
       "242599   1_370 2022-02-28 23:56:57.561424   s_172423    c_1460\n",
       "208601   1_456 2022-02-28 23:56:57.196281   s_172422    c_5787\n",
       "...        ...                        ...        ...       ...\n",
       "293481  0_1358 2021-03-01 00:05:18.801198        s_5    c_2033\n",
       "180767  0_1458 2021-03-01 00:04:54.559692        s_4    c_7912\n",
       "216737  0_1352 2021-03-01 00:02:38.311413        s_3     c_580\n",
       "95285   0_1390 2021-03-01 00:02:26.047414        s_2     c_664\n",
       "176588  0_1259 2021-03-01 00:01:07.843138        s_1     c_329\n",
       "\n",
       "[336816 rows x 4 columns]"
      ]
     },
     "execution_count": 17,
     "metadata": {},
     "output_type": "execute_result"
    }
   ],
   "source": [
    "# conversion de type de données\n",
    "# convert dtype of date col into datetime\n",
    "\n",
    "transactions['date'] = pd.to_datetime(transactions['date'], infer_datetime_format=True)\n",
    "transactions.sort_values(by='date', ascending=False)"
   ]
  },
  {
   "cell_type": "code",
   "execution_count": 18,
   "id": "d92db723-357e-4dd3-a7ce-82539368695c",
   "metadata": {},
   "outputs": [
    {
     "name": "stdout",
     "output_type": "stream",
     "text": [
      "Products database has 3286 unique items.\n",
      "Transactions database has 3265 unique items.\n"
     ]
    }
   ],
   "source": [
    "# make a list of unique product ids, print out total number of unique ids\n",
    "# faire une liste d'identifiants uniques de produits, imprimer le nombre total d'identifiants uniques\n",
    "\n",
    "prod_list = list(products['id_prod'].unique())\n",
    "print('Products database has ' + str(products['id_prod'].nunique()) + ' unique items.')\n",
    "\n",
    "purchased_prod_list = list(transactions['id_prod'].unique())\n",
    "print('Transactions database has ' + str(transactions['id_prod'].nunique()) + ' unique items.')"
   ]
  },
  {
   "cell_type": "code",
   "execution_count": 19,
   "id": "81c36770-cc8c-43ef-9e40-5e64914769a0",
   "metadata": {},
   "outputs": [
    {
     "name": "stdout",
     "output_type": "stream",
     "text": [
      "['0_2245']\n"
     ]
    }
   ],
   "source": [
    "# les articles qui ont été achetés mais qui n'existent pas dans la base de données des produits\n",
    "# items that were bought but dont exist in product database\n",
    "\n",
    "lost_item = list(set(purchased_prod_list).difference(prod_list))\n",
    "print(lost_item)"
   ]
  },
  {
   "cell_type": "code",
   "execution_count": 20,
   "id": "5ff02c8b-a3b8-4bc2-87f5-da330babada6",
   "metadata": {},
   "outputs": [
    {
     "name": "stdout",
     "output_type": "stream",
     "text": [
      "['0_1620', '2_72', '0_1780', '0_1025', '2_87', '0_510', '2_86', '0_525', '0_299', '0_1318', '0_1119', '0_1014', '0_1800', '0_1624', '1_394', '0_1645', '0_322', '1_0', '0_310', '0_1062', '0_2308', '0_1016']\n"
     ]
    }
   ],
   "source": [
    "# Des articles qui n'ont jamais été achetés\n",
    "# items that were never bought\n",
    "\n",
    "never_purchased = list(set(prod_list).difference(purchased_prod_list))\n",
    "print(never_purchased)"
   ]
  },
  {
   "cell_type": "code",
   "execution_count": 21,
   "id": "2ea79689-6af1-46cc-b1fb-bcd415c9755d",
   "metadata": {},
   "outputs": [
    {
     "name": "stdout",
     "output_type": "stream",
     "text": [
      "True\n",
      "False\n",
      "True\n"
     ]
    }
   ],
   "source": [
    "# vérifier si ces produits existent dans nos données brutes\n",
    "# check if those products exist in our raw data\n",
    "\n",
    "print(lost_item[0] in transactions['id_prod'].values)\n",
    "print(lost_item[0] in products['id_prod'].values)\n",
    "print(never_purchased[0] in products['id_prod'].values)"
   ]
  },
  {
   "cell_type": "code",
   "execution_count": 22,
   "id": "65c56b81-8680-459f-898d-cda2b9fb56d3",
   "metadata": {},
   "outputs": [
    {
     "data": {
      "text/html": [
       "<div>\n",
       "<style scoped>\n",
       "    .dataframe tbody tr th:only-of-type {\n",
       "        vertical-align: middle;\n",
       "    }\n",
       "\n",
       "    .dataframe tbody tr th {\n",
       "        vertical-align: top;\n",
       "    }\n",
       "\n",
       "    .dataframe thead th {\n",
       "        text-align: right;\n",
       "    }\n",
       "</style>\n",
       "<table border=\"1\" class=\"dataframe\">\n",
       "  <thead>\n",
       "    <tr style=\"text-align: right;\">\n",
       "      <th></th>\n",
       "      <th>id_prod</th>\n",
       "      <th>date</th>\n",
       "      <th>session_id</th>\n",
       "      <th>client_id</th>\n",
       "      <th>price</th>\n",
       "      <th>categ</th>\n",
       "    </tr>\n",
       "  </thead>\n",
       "  <tbody>\n",
       "    <tr>\n",
       "      <th>0</th>\n",
       "      <td>0_2245</td>\n",
       "      <td>2021-06-17 03:03:12.668129</td>\n",
       "      <td>s_49705</td>\n",
       "      <td>c_1533</td>\n",
       "      <td>NaN</td>\n",
       "      <td>NaN</td>\n",
       "    </tr>\n",
       "    <tr>\n",
       "      <th>1</th>\n",
       "      <td>0_2245</td>\n",
       "      <td>2021-06-16 05:53:01.627491</td>\n",
       "      <td>s_49323</td>\n",
       "      <td>c_7954</td>\n",
       "      <td>NaN</td>\n",
       "      <td>NaN</td>\n",
       "    </tr>\n",
       "    <tr>\n",
       "      <th>2</th>\n",
       "      <td>0_2245</td>\n",
       "      <td>2021-11-24 17:35:59.911427</td>\n",
       "      <td>s_124474</td>\n",
       "      <td>c_5120</td>\n",
       "      <td>NaN</td>\n",
       "      <td>NaN</td>\n",
       "    </tr>\n",
       "    <tr>\n",
       "      <th>3</th>\n",
       "      <td>0_2245</td>\n",
       "      <td>2022-02-28 18:08:49.875709</td>\n",
       "      <td>s_172304</td>\n",
       "      <td>c_4964</td>\n",
       "      <td>NaN</td>\n",
       "      <td>NaN</td>\n",
       "    </tr>\n",
       "    <tr>\n",
       "      <th>4</th>\n",
       "      <td>0_2245</td>\n",
       "      <td>2021-03-01 00:09:29.301897</td>\n",
       "      <td>s_3</td>\n",
       "      <td>c_580</td>\n",
       "      <td>NaN</td>\n",
       "      <td>NaN</td>\n",
       "    </tr>\n",
       "    <tr>\n",
       "      <th>...</th>\n",
       "      <td>...</td>\n",
       "      <td>...</td>\n",
       "      <td>...</td>\n",
       "      <td>...</td>\n",
       "      <td>...</td>\n",
       "      <td>...</td>\n",
       "    </tr>\n",
       "    <tr>\n",
       "      <th>98</th>\n",
       "      <td>0_2245</td>\n",
       "      <td>2021-04-06 19:59:19.462288</td>\n",
       "      <td>s_16936</td>\n",
       "      <td>c_4167</td>\n",
       "      <td>NaN</td>\n",
       "      <td>NaN</td>\n",
       "    </tr>\n",
       "    <tr>\n",
       "      <th>99</th>\n",
       "      <td>0_2245</td>\n",
       "      <td>2021-03-30 23:29:02.347672</td>\n",
       "      <td>s_13738</td>\n",
       "      <td>c_7790</td>\n",
       "      <td>NaN</td>\n",
       "      <td>NaN</td>\n",
       "    </tr>\n",
       "    <tr>\n",
       "      <th>100</th>\n",
       "      <td>0_2245</td>\n",
       "      <td>2021-12-03 14:14:40.444177</td>\n",
       "      <td>s_128815</td>\n",
       "      <td>c_6189</td>\n",
       "      <td>NaN</td>\n",
       "      <td>NaN</td>\n",
       "    </tr>\n",
       "    <tr>\n",
       "      <th>101</th>\n",
       "      <td>0_2245</td>\n",
       "      <td>2021-04-27 18:58:47.703374</td>\n",
       "      <td>s_26624</td>\n",
       "      <td>c_1595</td>\n",
       "      <td>NaN</td>\n",
       "      <td>NaN</td>\n",
       "    </tr>\n",
       "    <tr>\n",
       "      <th>102</th>\n",
       "      <td>0_2245</td>\n",
       "      <td>2021-05-01 03:35:03.146305</td>\n",
       "      <td>s_28235</td>\n",
       "      <td>c_5714</td>\n",
       "      <td>NaN</td>\n",
       "      <td>NaN</td>\n",
       "    </tr>\n",
       "  </tbody>\n",
       "</table>\n",
       "<p>103 rows × 6 columns</p>\n",
       "</div>"
      ],
      "text/plain": [
       "    id_prod                       date session_id client_id  price  categ\n",
       "0    0_2245 2021-06-17 03:03:12.668129    s_49705    c_1533    NaN    NaN\n",
       "1    0_2245 2021-06-16 05:53:01.627491    s_49323    c_7954    NaN    NaN\n",
       "2    0_2245 2021-11-24 17:35:59.911427   s_124474    c_5120    NaN    NaN\n",
       "3    0_2245 2022-02-28 18:08:49.875709   s_172304    c_4964    NaN    NaN\n",
       "4    0_2245 2021-03-01 00:09:29.301897        s_3     c_580    NaN    NaN\n",
       "..      ...                        ...        ...       ...    ...    ...\n",
       "98   0_2245 2021-04-06 19:59:19.462288    s_16936    c_4167    NaN    NaN\n",
       "99   0_2245 2021-03-30 23:29:02.347672    s_13738    c_7790    NaN    NaN\n",
       "100  0_2245 2021-12-03 14:14:40.444177   s_128815    c_6189    NaN    NaN\n",
       "101  0_2245 2021-04-27 18:58:47.703374    s_26624    c_1595    NaN    NaN\n",
       "102  0_2245 2021-05-01 03:35:03.146305    s_28235    c_5714    NaN    NaN\n",
       "\n",
       "[103 rows x 6 columns]"
      ]
     },
     "execution_count": 22,
     "metadata": {},
     "output_type": "execute_result"
    }
   ],
   "source": [
    "# achats de lost_item. Filtre sur l'identifiant de l'article, fusionne le nouveau fichier avec le fichier du produit pour voir si nous avons des données sur l'article perdu.\n",
    "# purchases of lost_item. Filter on item id, merge new df with product df to see if we have any data about lost_item\n",
    "\n",
    "df1 = transactions[transactions['id_prod'].isin(lost_item)]\n",
    "\n",
    "lost_df = pd.merge(\n",
    "    df1, products,\n",
    "    on='id_prod', how='left')\n",
    "\n",
    "lost_df"
   ]
  },
  {
   "cell_type": "code",
   "execution_count": 23,
   "id": "6c4cc73a-1a52-4b28-8958-1e3143371b8f",
   "metadata": {},
   "outputs": [
    {
     "name": "stdout",
     "output_type": "stream",
     "text": [
      "103\n",
      "103\n"
     ]
    }
   ],
   "source": [
    "# vérifier si nous avons des données sur le prix ou la catégorie du produit perdu.\n",
    "# check if we have any data about price or category for lost product\n",
    "\n",
    "print(lost_df['price'].isna().sum())\n",
    "print(lost_df['categ'].isna().sum())"
   ]
  },
  {
   "cell_type": "markdown",
   "id": "6183f010-18ce-4b3f-9483-44a608ad0be9",
   "metadata": {},
   "source": [
    "Le nombre de lignes pour lost_item est égal au nombre de valeurs manquantes pour Price et Category. Cela signifie que nous n'avons pas de données sur lost_item.\n",
    "\n",
    "Amount of rows for lost_item is equal to amount of missing values for both Price and Category. This means we have no data about lost_item"
   ]
  },
  {
   "cell_type": "code",
   "execution_count": 24,
   "id": "7dcf1f59-e256-488c-ac6c-e9c1231e1567",
   "metadata": {},
   "outputs": [
    {
     "data": {
      "text/html": [
       "<div>\n",
       "<style scoped>\n",
       "    .dataframe tbody tr th:only-of-type {\n",
       "        vertical-align: middle;\n",
       "    }\n",
       "\n",
       "    .dataframe tbody tr th {\n",
       "        vertical-align: top;\n",
       "    }\n",
       "\n",
       "    .dataframe thead th {\n",
       "        text-align: right;\n",
       "    }\n",
       "</style>\n",
       "<table border=\"1\" class=\"dataframe\">\n",
       "  <thead>\n",
       "    <tr style=\"text-align: right;\">\n",
       "      <th></th>\n",
       "      <th>id_prod</th>\n",
       "      <th>price</th>\n",
       "      <th>categ</th>\n",
       "    </tr>\n",
       "  </thead>\n",
       "  <tbody>\n",
       "    <tr>\n",
       "      <th>1709</th>\n",
       "      <td>2_87</td>\n",
       "      <td>220.99</td>\n",
       "      <td>2</td>\n",
       "    </tr>\n",
       "    <tr>\n",
       "      <th>1946</th>\n",
       "      <td>2_72</td>\n",
       "      <td>141.32</td>\n",
       "      <td>2</td>\n",
       "    </tr>\n",
       "    <tr>\n",
       "      <th>2525</th>\n",
       "      <td>2_86</td>\n",
       "      <td>132.36</td>\n",
       "      <td>2</td>\n",
       "    </tr>\n",
       "    <tr>\n",
       "      <th>1863</th>\n",
       "      <td>1_394</td>\n",
       "      <td>39.73</td>\n",
       "      <td>1</td>\n",
       "    </tr>\n",
       "    <tr>\n",
       "      <th>184</th>\n",
       "      <td>0_1016</td>\n",
       "      <td>35.06</td>\n",
       "      <td>0</td>\n",
       "    </tr>\n",
       "    <tr>\n",
       "      <th>846</th>\n",
       "      <td>1_0</td>\n",
       "      <td>31.82</td>\n",
       "      <td>1</td>\n",
       "    </tr>\n",
       "    <tr>\n",
       "      <th>1543</th>\n",
       "      <td>0_1025</td>\n",
       "      <td>24.99</td>\n",
       "      <td>0</td>\n",
       "    </tr>\n",
       "    <tr>\n",
       "      <th>2408</th>\n",
       "      <td>0_1624</td>\n",
       "      <td>24.50</td>\n",
       "      <td>0</td>\n",
       "    </tr>\n",
       "    <tr>\n",
       "      <th>3031</th>\n",
       "      <td>0_510</td>\n",
       "      <td>23.66</td>\n",
       "      <td>0</td>\n",
       "    </tr>\n",
       "    <tr>\n",
       "      <th>2690</th>\n",
       "      <td>0_299</td>\n",
       "      <td>22.99</td>\n",
       "      <td>0</td>\n",
       "    </tr>\n",
       "    <tr>\n",
       "      <th>1139</th>\n",
       "      <td>0_1800</td>\n",
       "      <td>22.05</td>\n",
       "      <td>0</td>\n",
       "    </tr>\n",
       "    <tr>\n",
       "      <th>1031</th>\n",
       "      <td>0_1318</td>\n",
       "      <td>20.92</td>\n",
       "      <td>0</td>\n",
       "    </tr>\n",
       "    <tr>\n",
       "      <th>3096</th>\n",
       "      <td>0_2308</td>\n",
       "      <td>20.28</td>\n",
       "      <td>0</td>\n",
       "    </tr>\n",
       "    <tr>\n",
       "      <th>737</th>\n",
       "      <td>0_1062</td>\n",
       "      <td>20.08</td>\n",
       "      <td>0</td>\n",
       "    </tr>\n",
       "    <tr>\n",
       "      <th>1347</th>\n",
       "      <td>0_1645</td>\n",
       "      <td>2.99</td>\n",
       "      <td>0</td>\n",
       "    </tr>\n",
       "    <tr>\n",
       "      <th>1505</th>\n",
       "      <td>0_322</td>\n",
       "      <td>2.99</td>\n",
       "      <td>0</td>\n",
       "    </tr>\n",
       "    <tr>\n",
       "      <th>794</th>\n",
       "      <td>0_1119</td>\n",
       "      <td>2.99</td>\n",
       "      <td>0</td>\n",
       "    </tr>\n",
       "    <tr>\n",
       "      <th>2458</th>\n",
       "      <td>0_525</td>\n",
       "      <td>2.99</td>\n",
       "      <td>0</td>\n",
       "    </tr>\n",
       "    <tr>\n",
       "      <th>2215</th>\n",
       "      <td>0_310</td>\n",
       "      <td>1.94</td>\n",
       "      <td>0</td>\n",
       "    </tr>\n",
       "    <tr>\n",
       "      <th>279</th>\n",
       "      <td>0_1780</td>\n",
       "      <td>1.67</td>\n",
       "      <td>0</td>\n",
       "    </tr>\n",
       "    <tr>\n",
       "      <th>811</th>\n",
       "      <td>0_1014</td>\n",
       "      <td>1.15</td>\n",
       "      <td>0</td>\n",
       "    </tr>\n",
       "    <tr>\n",
       "      <th>1530</th>\n",
       "      <td>0_1620</td>\n",
       "      <td>0.80</td>\n",
       "      <td>0</td>\n",
       "    </tr>\n",
       "  </tbody>\n",
       "</table>\n",
       "</div>"
      ],
      "text/plain": [
       "     id_prod   price  categ\n",
       "1709    2_87  220.99      2\n",
       "1946    2_72  141.32      2\n",
       "2525    2_86  132.36      2\n",
       "1863   1_394   39.73      1\n",
       "184   0_1016   35.06      0\n",
       "846      1_0   31.82      1\n",
       "1543  0_1025   24.99      0\n",
       "2408  0_1624   24.50      0\n",
       "3031   0_510   23.66      0\n",
       "2690   0_299   22.99      0\n",
       "1139  0_1800   22.05      0\n",
       "1031  0_1318   20.92      0\n",
       "3096  0_2308   20.28      0\n",
       "737   0_1062   20.08      0\n",
       "1347  0_1645    2.99      0\n",
       "1505   0_322    2.99      0\n",
       "794   0_1119    2.99      0\n",
       "2458   0_525    2.99      0\n",
       "2215   0_310    1.94      0\n",
       "279   0_1780    1.67      0\n",
       "811   0_1014    1.15      0\n",
       "1530  0_1620    0.80      0"
      ]
     },
     "execution_count": 24,
     "metadata": {},
     "output_type": "execute_result"
    }
   ],
   "source": [
    "# Les articles qui n'ont jamais été achetés\n",
    "# which items were never bought\n",
    "\n",
    "df2 = products[(products['id_prod'].isin(never_purchased))]\n",
    "df2.sort_values(by='price', ascending=False)"
   ]
  },
  {
   "cell_type": "markdown",
   "id": "cce59136",
   "metadata": {
    "tags": []
   },
   "source": [
    "# Mission n° 2\n",
    "Ensuite, vous réaliserez l’analyse des données. Une grande liberté vous est laissée sur ce plan, mais à vous de trouver les informations qui ont du sens pour mieux comprendre les ventes.\n",
    "\n",
    "Vous devrez y utiliser au moins :\n",
    "\n",
    "- des indicateurs de tendance centrale et de dispersion ;\n",
    "- une analyse de concentration, via une courbe de Lorenz et un indice de Gini ;\n",
    "- des représentations graphiques, dont au moins un histogramme, une représentation avec des \"boîtes à moustaches\", et une représentation de série temporelle (c’est-à-dire un graphique dont l’axe des abscisses représente des dates) ;\n",
    "- des analyses bivariées.\n",
    "\n",
    "Next, you will carry out the data analysis. You are given a lot of freedom here, but it is up to you to find the information that makes sense to understand sales better.\n",
    "\n",
    "You should use at least :\n",
    "\n",
    "- indicators of central tendency and dispersion ;\n",
    "- concentration analysis, via a Lorenz curve and a Gini index;\n",
    "- graphical representations, including at least a histogram, a \"box plot\", and a time series representation (i.e. a graph with dates on the x-axis);\n",
    "\n",
    "- bivariate analyses."
   ]
  },
  {
   "cell_type": "code",
   "execution_count": 25,
   "id": "19c03da7-955b-4853-890d-66513d4ba91e",
   "metadata": {},
   "outputs": [],
   "source": [
    "# fusionner les données en seul DF\n",
    "# merge data into single dataframe\n",
    "\n",
    "sessions = pd.merge(\n",
    "    products, transactions,\n",
    "    on='id_prod', how='outer')\n",
    "\n",
    "df_global = pd.merge(\n",
    "    sessions, customers,\n",
    "    on='client_id', how='outer')\n",
    "\n",
    "# créer une nouvelle colonne 'age' pour une meilleure représentation de la variable importante\n",
    "# create new col 'age' for better represantation of important variable\n",
    "\n",
    "df_global['age'] = 2022 - df_global['birth']\n",
    "customers['age'] = 2022 - customers['birth']\n",
    "\n",
    "# supprimer lost_item des données globales car il ne contribue pas à l'analyse\n",
    "# delete lost_item from global data since it wont contribute to analysis\n",
    "\n",
    "df_global = df_global.loc[~df_global['id_prod'].isin(lost_item)]"
   ]
  },
  {
   "cell_type": "code",
   "execution_count": 26,
   "id": "95d23463-1b04-4823-be93-797b75fd125e",
   "metadata": {},
   "outputs": [
    {
     "data": {
      "text/plain": [
       "0"
      ]
     },
     "execution_count": 26,
     "metadata": {},
     "output_type": "execute_result"
    }
   ],
   "source": [
    "# vérifier la quantité de lignes dupliquées\n",
    "# check amount of duplicated rows\n",
    "\n",
    "df_global.duplicated().sum()"
   ]
  },
  {
   "cell_type": "code",
   "execution_count": 27,
   "id": "0a5bfce1",
   "metadata": {},
   "outputs": [
    {
     "name": "stdout",
     "output_type": "stream",
     "text": [
      "Average age of registered user is 43.7\n",
      "Most frequent age among registered users is 18\n",
      "\n",
      "\n",
      "Average age of our customers is 44.2\n",
      "Most frequent age of our customers is 42.0\n"
     ]
    }
   ],
   "source": [
    "# comprendre nos clients, âge moyen et âge le plus fréquent\n",
    "# understanding our customers, average age and most frequent age\n",
    "\n",
    "print('Average age of registered user is ' + str(round(customers['age'].mean(), 1)))\n",
    "print('Most frequent age among registered users is ' + str(round(customers['age'].mode()[0], 1)))\n",
    "print('\\n')\n",
    "print('Average age of our customers is ' + str(round(df_global['age'].mean(), 1)))\n",
    "print('Most frequent age of our customers is ' + str(round(df_global['age'].mode()[0], 1)))"
   ]
  },
  {
   "cell_type": "code",
   "execution_count": 28,
   "id": "21d34e03",
   "metadata": {},
   "outputs": [
    {
     "data": {
      "image/png": "[encoded data removed]",
      "text/plain": [
       "<Figure size 1080x360 with 1 Axes>"
      ]
     },
     "metadata": {
      "needs_background": "light"
     },
     "output_type": "display_data"
    },
    {
     "data": {
      "image/png": "[encoded data removed]",
      "text/plain": [
       "<Figure size 1080x360 with 1 Axes>"
      ]
     },
     "metadata": {
      "needs_background": "light"
     },
     "output_type": "display_data"
    }
   ],
   "source": [
    "# visualiser les données pour voir les valeurs aberrantes et les distributions\n",
    "# visualizing data to see outliers and distributions\n",
    "\n",
    "plt.figure(figsize=(15,5))\n",
    "sns.boxplot(x = customers['age'])\n",
    "\n",
    "plt.title('Age distribution', fontsize=15)\n",
    "plt.xlabel('Age')\n",
    "plt.ylabel('Amount of customers')\n",
    "\n",
    "plt.savefig(\n",
    "    fname='age_distribution_1.jpg', dpi=100,\n",
    "    format='jpg', orientation='landscape',\n",
    "    bbox_inches='tight')\n",
    "\n",
    "plt.show();\n",
    "\n",
    "plt.figure(figsize=(15,5))\n",
    "sns.histplot(customers['age'], bins=15\n",
    "             # each bin = 5 years, between max and min values\n",
    "            )\n",
    "\n",
    "plt.title('Age distribution', fontsize=15)\n",
    "plt.xlabel('Age')\n",
    "plt.ylabel('Amount of customers')\n",
    "\n",
    "plt.savefig(\n",
    "    fname='age_distribution_2.jpg', dpi=100,\n",
    "    format='jpg', orientation='landscape',\n",
    "    bbox_inches='tight')\n",
    "\n",
    "plt.show();"
   ]
  },
  {
   "cell_type": "code",
   "execution_count": 29,
   "id": "dc8447c6",
   "metadata": {
    "tags": []
   },
   "outputs": [
    {
     "name": "stdout",
     "output_type": "stream",
     "text": [
      "52.08% of our customers are female\n",
      "47.92% of our customers are male\n"
     ]
    },
    {
     "data": {
      "image/png": "[encoded data removed]",
      "text/plain": [
       "<Figure size 144x360 with 1 Axes>"
      ]
     },
     "metadata": {
      "needs_background": "light"
     },
     "output_type": "display_data"
    }
   ],
   "source": [
    "# gender distribution among customers\n",
    "# répartition par sexe des clients\n",
    "\n",
    "print(str(\n",
    "        round(customers['sex'].value_counts()[0] * 100 / (customers['sex'].value_counts()[0] + customers['sex'].value_counts()[1]), 2)\n",
    "    ) + '% of our customers are female')\n",
    "print(str(\n",
    "        round(customers['sex'].value_counts()[1] * 100 / (customers['sex'].value_counts()[0] + customers['sex'].value_counts()[1]), 2)\n",
    "    ) + '% of our customers are male')\n",
    "\n",
    "height = customers['sex'].value_counts()\n",
    "bars = customers['sex'].unique()\n",
    "y_pos = np.arange(len(bars))\n",
    "\n",
    "plt.figure(figsize=(2,5))\n",
    "plt.bar(y_pos, height)\n",
    "plt.xticks(y_pos, ['females', 'males'])\n",
    "\n",
    "plt.title('Gender distribution', fontsize=15)\n",
    "plt.ylabel('Amount of customers')\n",
    "\n",
    "plt.savefig(\n",
    "    fname='gender_distribution_1.jpg', dpi=100,\n",
    "    format='jpg', bbox_inches='tight')\n",
    "plt.show();"
   ]
  },
  {
   "cell_type": "code",
   "execution_count": 30,
   "id": "5f5cfc19-53fb-466a-8489-2c82a0b9fee8",
   "metadata": {},
   "outputs": [
    {
     "data": {
      "image/png": "[encoded data removed]",
      "text/plain": [
       "<Figure size 1440x504 with 1 Axes>"
      ]
     },
     "metadata": {
      "needs_background": "light"
     },
     "output_type": "display_data"
    }
   ],
   "source": [
    "# gender and age distribution\n",
    "# répartition par sexe et par âge\n",
    "\n",
    "age_gender = pd.crosstab(df_global.age, df_global.sex, margins=False)\n",
    "\n",
    "age_gender.plot(kind='bar', stacked=True, figsize=(20, 7))\n",
    "\n",
    "plt.title('Gender distribution by age', fontsize=15)\n",
    "plt.xlabel('Age')\n",
    "plt.ylabel('Amount of customers')\n",
    "\n",
    "plt.show();"
   ]
  },
  {
   "cell_type": "markdown",
   "id": "86e841d5-8827-4e7e-8dda-05c4c22261e3",
   "metadata": {},
   "source": [
    "#### Conclusions 1 (l'age):\n",
    "L'âge moyen de nos clients est de 44 ans. L'âge le plus populaire parmi nos clients est 42 ans (toutefois, parmi les utilisateurs enregistrés, l'âge le plus populaire est 18 ans).\\\n",
    "La visualisation nous montre que la majorité des clients ont entre 31 et 54 ans. Notre plus grand groupe de clients est constitué de personnes âgées de 18 à 23 ans.\n",
    "La répartition par sexe est légèrement en faveur des femmes (52%), par rapport aux hommes (48%).\n",
    "Si nous comparons la répartition par âge et par sexe, la tendance à l'égalité se maintient. Toutefois, quelques tranches d'âge sont dominées par un sexe spécifique (par exemple, les femmes de 54 ans, les hommes de 42 ans, les hommes de 23 ans).\n",
    "\n",
    "Conclusions 1:\\\n",
    "Average age of our customers is 44. The most popular age among our customers is 42 (however among registered users most popular age is 18).\\\n",
    "Visualization shows us that majority of customers are between 31 and 54 years old. Our largest customer group consists of people aged 18-23.\n",
    "Gender distribution slightly in favour of female customers (52%), compared to males (48%).\n",
    "If we compare age and gender distribution, the equality trend keeps up. However there are a couple of ages that dominated by specific gender (for example females aged 54, males aged 42, males aged 23)."
   ]
  },
  {
   "cell_type": "code",
   "execution_count": 31,
   "id": "782aa0ac",
   "metadata": {},
   "outputs": [
    {
     "data": {
      "image/png": "[encoded data removed]",
      "text/plain": [
       "<Figure size 1080x360 with 1 Axes>"
      ]
     },
     "metadata": {
      "needs_background": "light"
     },
     "output_type": "display_data"
    }
   ],
   "source": [
    "# représentation de série temporelle\n",
    "# Time Series (no forecasting)\n",
    "\n",
    "ts = sessions.groupby(pd.Grouper(\n",
    "    key='date', axis=0, freq='D', sort=True)\n",
    "                     ).sum()\n",
    "ts = ts.reset_index()\n",
    "\n",
    "# Time Series plot\n",
    "\n",
    "plt.figure(figsize=(15,5)) \n",
    "\n",
    "plt.plot(\n",
    "    ts['date'], ts['price'], antialiased=True,\n",
    "    linestyle='-', linewidth=1.25)\n",
    "\n",
    "plt.title('Daily revenue', fontsize=15)\n",
    "plt.xlabel('Time of the year')\n",
    "plt.ylabel('Revenue')\n",
    "\n",
    "plt.savefig(\n",
    "    fname='sales_history.jpg', dpi=100, format='jpg',\n",
    "    orientation='landscape', bbox_inches='tight')\n",
    "\n",
    "plt.show();"
   ]
  },
  {
   "cell_type": "markdown",
   "id": "3efde790-2cd5-44c9-aa28-ce0eca9bc017",
   "metadata": {},
   "source": [
    "FR:\n",
    "Ce graphique représente nos revenus sur l'année. Nous pouvons voir que la tendance générale est à l'augmentation. Mais il y a une nette baisse en octobre, avec une reprise immédiate en novembre. Nous devons rechercher les causes probables et voir si cela se reproduira en octobre prochain.\n",
    "\n",
    "EN:\n",
    "This graph represents our revenue over the year. We can see that overall trend is towards increasing. But there is a clear drop in October, with immediate recovery in November. We need to investigate probable causes and see if it will be repeated next October."
   ]
  },
  {
   "cell_type": "code",
   "execution_count": 32,
   "id": "f5aa77ed-4ad3-4713-bb9c-e881c1d44e7f",
   "metadata": {},
   "outputs": [
    {
     "name": "stdout",
     "output_type": "stream",
     "text": [
      "(33254, 9) (21577, 9) (28267, 9)\n"
     ]
    }
   ],
   "source": [
    "# enquêter sur une baisse de revenus en octobre\n",
    "# investigating a drop of revenue in October\n",
    "\n",
    "september_data = df_global[(df_global['date'] >= '2021-09-01') & (df_global['date'] < '2021-10-01')]\n",
    "\n",
    "october_data = df_global[(df_global['date'] >= '2021-10-01') & (df_global['date'] < '2021-11-01')]\n",
    "\n",
    "november_data = df_global[(df_global['date'] >= '2021-11-01') & (df_global['date'] < '2021-12-01')]\n",
    "\n",
    "print(september_data.shape, october_data.shape, november_data.shape)"
   ]
  },
  {
   "cell_type": "markdown",
   "id": "cb240871-d8a7-42e3-aa57-652ae0ae01cd",
   "metadata": {
    "jupyter": {
     "outputs_hidden": true
    },
    "tags": []
   },
   "source": [
    "La quantité de données en octobre a fortement diminué par rapport au mois précédent.\n",
    "\n",
    "Amount of data in October declined sharply compared to previous month."
   ]
  },
  {
   "cell_type": "code",
   "execution_count": 33,
   "id": "683048e2-2f12-4f21-bdb6-9010ecdbd1f5",
   "metadata": {},
   "outputs": [],
   "source": [
    "# regrouper les ventes par nombre d'articles vendus par catégorie et par mois\n",
    "# group sales by number of items sold per category per month\n",
    "\n",
    "# .dt.isocalendar().week = weekly grouping\n",
    "\n",
    "september_sorted = september_data.groupby([df_global['date'].dt.month, df_global.categ])[['categ']].agg(['count'])\n",
    "october_sorted = october_data.groupby([df_global['date'].dt.month, df_global.categ])[['categ']].agg(['count'])\n",
    "november_sorted = november_data.groupby([df_global['date'].dt.month, df_global.categ])[['categ']].agg(['count'])"
   ]
  },
  {
   "cell_type": "code",
   "execution_count": 34,
   "id": "a7e0d459-2c3f-4891-b06f-767e845470b4",
   "metadata": {},
   "outputs": [
    {
     "data": {
      "text/html": [
       "<div>\n",
       "<style scoped>\n",
       "    .dataframe tbody tr th:only-of-type {\n",
       "        vertical-align: middle;\n",
       "    }\n",
       "\n",
       "    .dataframe tbody tr th {\n",
       "        vertical-align: top;\n",
       "    }\n",
       "\n",
       "    .dataframe thead tr th {\n",
       "        text-align: left;\n",
       "    }\n",
       "\n",
       "    .dataframe thead tr:last-of-type th {\n",
       "        text-align: right;\n",
       "    }\n",
       "</style>\n",
       "<table border=\"1\" class=\"dataframe\">\n",
       "  <thead>\n",
       "    <tr>\n",
       "      <th></th>\n",
       "      <th></th>\n",
       "      <th colspan=\"3\" halign=\"left\">categ</th>\n",
       "    </tr>\n",
       "    <tr>\n",
       "      <th></th>\n",
       "      <th></th>\n",
       "      <th>count</th>\n",
       "      <th>count</th>\n",
       "      <th>count</th>\n",
       "    </tr>\n",
       "    <tr>\n",
       "      <th>date</th>\n",
       "      <th>categ</th>\n",
       "      <th></th>\n",
       "      <th></th>\n",
       "      <th></th>\n",
       "    </tr>\n",
       "  </thead>\n",
       "  <tbody>\n",
       "    <tr>\n",
       "      <th rowspan=\"3\" valign=\"top\">9.0</th>\n",
       "      <th>0.0</th>\n",
       "      <td>23112.0</td>\n",
       "      <td>0.0</td>\n",
       "      <td>0.0</td>\n",
       "    </tr>\n",
       "    <tr>\n",
       "      <th>1.0</th>\n",
       "      <td>9268.0</td>\n",
       "      <td>0.0</td>\n",
       "      <td>0.0</td>\n",
       "    </tr>\n",
       "    <tr>\n",
       "      <th>2.0</th>\n",
       "      <td>874.0</td>\n",
       "      <td>0.0</td>\n",
       "      <td>0.0</td>\n",
       "    </tr>\n",
       "    <tr>\n",
       "      <th rowspan=\"3\" valign=\"top\">10.0</th>\n",
       "      <th>0.0</th>\n",
       "      <td>0.0</td>\n",
       "      <td>18751.0</td>\n",
       "      <td>0.0</td>\n",
       "    </tr>\n",
       "    <tr>\n",
       "      <th>1.0</th>\n",
       "      <td>0.0</td>\n",
       "      <td>1666.0</td>\n",
       "      <td>0.0</td>\n",
       "    </tr>\n",
       "    <tr>\n",
       "      <th>2.0</th>\n",
       "      <td>0.0</td>\n",
       "      <td>1160.0</td>\n",
       "      <td>0.0</td>\n",
       "    </tr>\n",
       "    <tr>\n",
       "      <th rowspan=\"3\" valign=\"top\">11.0</th>\n",
       "      <th>0.0</th>\n",
       "      <td>0.0</td>\n",
       "      <td>0.0</td>\n",
       "      <td>14578.0</td>\n",
       "    </tr>\n",
       "    <tr>\n",
       "      <th>1.0</th>\n",
       "      <td>0.0</td>\n",
       "      <td>0.0</td>\n",
       "      <td>12316.0</td>\n",
       "    </tr>\n",
       "    <tr>\n",
       "      <th>2.0</th>\n",
       "      <td>0.0</td>\n",
       "      <td>0.0</td>\n",
       "      <td>1373.0</td>\n",
       "    </tr>\n",
       "  </tbody>\n",
       "</table>\n",
       "</div>"
      ],
      "text/plain": [
       "              categ                  \n",
       "              count    count    count\n",
       "date categ                           \n",
       "9.0  0.0    23112.0      0.0      0.0\n",
       "     1.0     9268.0      0.0      0.0\n",
       "     2.0      874.0      0.0      0.0\n",
       "10.0 0.0        0.0  18751.0      0.0\n",
       "     1.0        0.0   1666.0      0.0\n",
       "     2.0        0.0   1160.0      0.0\n",
       "11.0 0.0        0.0      0.0  14578.0\n",
       "     1.0        0.0      0.0  12316.0\n",
       "     2.0        0.0      0.0   1373.0"
      ]
     },
     "execution_count": 34,
     "metadata": {},
     "output_type": "execute_result"
    }
   ],
   "source": [
    "fall_sales = pd.concat([september_sorted, october_sorted, november_sorted], axis=1)\n",
    "fall_sales = fall_sales.fillna(value=0)\n",
    "fall_sales"
   ]
  },
  {
   "cell_type": "code",
   "execution_count": 35,
   "id": "2364d55b-9550-44b9-808f-d98adebfea2e",
   "metadata": {
    "tags": []
   },
   "outputs": [
    {
     "data": {
      "image/png": "[encoded data removed]",
      "text/plain": [
       "<Figure size 1080x360 with 1 Axes>"
      ]
     },
     "metadata": {
      "needs_background": "light"
     },
     "output_type": "display_data"
    }
   ],
   "source": [
    "my_colors = list(islice(cycle(['b', 'r', 'g']), None, len(fall_sales)))\n",
    "\n",
    "ax = fall_sales.unstack(level=1).plot(kind='bar', align='center', figsize=(15,5),\n",
    "                                      legend=False, color=my_colors, stacked=False,\n",
    "                                      width=2.0)\n",
    "\n",
    "plt.xticks([0, 1, 2], ['September', 'October', 'November'])\n",
    "\n",
    "plt.title('October anomaly', fontsize=15)\n",
    "plt.legend(['Category 0', 'Category 1', 'Category 2'])\n",
    "plt.xlabel('Month\\Category')\n",
    "plt.ylabel('Number of items')\n",
    "\n",
    "plt.savefig(\n",
    "    fname='october_anomaly_per_category.jpg', dpi=100, format='jpg',\n",
    "    orientation='landscape', bbox_inches='tight')\n",
    "\n",
    "plt.show();"
   ]
  },
  {
   "cell_type": "code",
   "execution_count": 36,
   "id": "6c8b1a1a-5d7f-42a5-8e35-ff33da4def70",
   "metadata": {},
   "outputs": [
    {
     "data": {
      "text/html": [
       "<div>\n",
       "<style scoped>\n",
       "    .dataframe tbody tr th:only-of-type {\n",
       "        vertical-align: middle;\n",
       "    }\n",
       "\n",
       "    .dataframe tbody tr th {\n",
       "        vertical-align: top;\n",
       "    }\n",
       "\n",
       "    .dataframe thead tr th {\n",
       "        text-align: left;\n",
       "    }\n",
       "\n",
       "    .dataframe thead tr:last-of-type th {\n",
       "        text-align: right;\n",
       "    }\n",
       "</style>\n",
       "<table border=\"1\" class=\"dataframe\">\n",
       "  <thead>\n",
       "    <tr>\n",
       "      <th></th>\n",
       "      <th></th>\n",
       "      <th>categ</th>\n",
       "    </tr>\n",
       "    <tr>\n",
       "      <th></th>\n",
       "      <th></th>\n",
       "      <th>count</th>\n",
       "    </tr>\n",
       "    <tr>\n",
       "      <th>date</th>\n",
       "      <th>categ</th>\n",
       "      <th></th>\n",
       "    </tr>\n",
       "  </thead>\n",
       "  <tbody>\n",
       "    <tr>\n",
       "      <th rowspan=\"3\" valign=\"top\">1.0</th>\n",
       "      <th>0.0</th>\n",
       "      <td>662</td>\n",
       "    </tr>\n",
       "    <tr>\n",
       "      <th>1.0</th>\n",
       "      <td>344</td>\n",
       "    </tr>\n",
       "    <tr>\n",
       "      <th>2.0</th>\n",
       "      <td>37</td>\n",
       "    </tr>\n",
       "    <tr>\n",
       "      <th rowspan=\"2\" valign=\"top\">2.0</th>\n",
       "      <th>0.0</th>\n",
       "      <td>660</td>\n",
       "    </tr>\n",
       "    <tr>\n",
       "      <th>2.0</th>\n",
       "      <td>27</td>\n",
       "    </tr>\n",
       "    <tr>\n",
       "      <th rowspan=\"2\" valign=\"top\">3.0</th>\n",
       "      <th>0.0</th>\n",
       "      <td>647</td>\n",
       "    </tr>\n",
       "    <tr>\n",
       "      <th>2.0</th>\n",
       "      <td>30</td>\n",
       "    </tr>\n",
       "    <tr>\n",
       "      <th rowspan=\"2\" valign=\"top\">4.0</th>\n",
       "      <th>0.0</th>\n",
       "      <td>600</td>\n",
       "    </tr>\n",
       "    <tr>\n",
       "      <th>2.0</th>\n",
       "      <td>37</td>\n",
       "    </tr>\n",
       "    <tr>\n",
       "      <th rowspan=\"2\" valign=\"top\">5.0</th>\n",
       "      <th>0.0</th>\n",
       "      <td>594</td>\n",
       "    </tr>\n",
       "    <tr>\n",
       "      <th>2.0</th>\n",
       "      <td>38</td>\n",
       "    </tr>\n",
       "    <tr>\n",
       "      <th rowspan=\"2\" valign=\"top\">6.0</th>\n",
       "      <th>0.0</th>\n",
       "      <td>701</td>\n",
       "    </tr>\n",
       "    <tr>\n",
       "      <th>2.0</th>\n",
       "      <td>25</td>\n",
       "    </tr>\n",
       "    <tr>\n",
       "      <th rowspan=\"2\" valign=\"top\">7.0</th>\n",
       "      <th>0.0</th>\n",
       "      <td>597</td>\n",
       "    </tr>\n",
       "    <tr>\n",
       "      <th>2.0</th>\n",
       "      <td>26</td>\n",
       "    </tr>\n",
       "    <tr>\n",
       "      <th rowspan=\"2\" valign=\"top\">8.0</th>\n",
       "      <th>0.0</th>\n",
       "      <td>669</td>\n",
       "    </tr>\n",
       "    <tr>\n",
       "      <th>2.0</th>\n",
       "      <td>44</td>\n",
       "    </tr>\n",
       "    <tr>\n",
       "      <th rowspan=\"2\" valign=\"top\">9.0</th>\n",
       "      <th>0.0</th>\n",
       "      <td>640</td>\n",
       "    </tr>\n",
       "    <tr>\n",
       "      <th>2.0</th>\n",
       "      <td>35</td>\n",
       "    </tr>\n",
       "    <tr>\n",
       "      <th rowspan=\"2\" valign=\"top\">10.0</th>\n",
       "      <th>0.0</th>\n",
       "      <td>599</td>\n",
       "    </tr>\n",
       "    <tr>\n",
       "      <th>2.0</th>\n",
       "      <td>28</td>\n",
       "    </tr>\n",
       "    <tr>\n",
       "      <th rowspan=\"2\" valign=\"top\">11.0</th>\n",
       "      <th>0.0</th>\n",
       "      <td>642</td>\n",
       "    </tr>\n",
       "    <tr>\n",
       "      <th>2.0</th>\n",
       "      <td>42</td>\n",
       "    </tr>\n",
       "    <tr>\n",
       "      <th rowspan=\"2\" valign=\"top\">12.0</th>\n",
       "      <th>0.0</th>\n",
       "      <td>632</td>\n",
       "    </tr>\n",
       "    <tr>\n",
       "      <th>2.0</th>\n",
       "      <td>29</td>\n",
       "    </tr>\n",
       "    <tr>\n",
       "      <th rowspan=\"2\" valign=\"top\">13.0</th>\n",
       "      <th>0.0</th>\n",
       "      <td>633</td>\n",
       "    </tr>\n",
       "    <tr>\n",
       "      <th>2.0</th>\n",
       "      <td>36</td>\n",
       "    </tr>\n",
       "    <tr>\n",
       "      <th rowspan=\"2\" valign=\"top\">14.0</th>\n",
       "      <th>0.0</th>\n",
       "      <td>605</td>\n",
       "    </tr>\n",
       "    <tr>\n",
       "      <th>2.0</th>\n",
       "      <td>39</td>\n",
       "    </tr>\n",
       "    <tr>\n",
       "      <th>15.0</th>\n",
       "      <th>0.0</th>\n",
       "      <td>632</td>\n",
       "    </tr>\n",
       "  </tbody>\n",
       "</table>\n",
       "</div>"
      ],
      "text/plain": [
       "           categ\n",
       "           count\n",
       "date categ      \n",
       "1.0  0.0     662\n",
       "     1.0     344\n",
       "     2.0      37\n",
       "2.0  0.0     660\n",
       "     2.0      27\n",
       "3.0  0.0     647\n",
       "     2.0      30\n",
       "4.0  0.0     600\n",
       "     2.0      37\n",
       "5.0  0.0     594\n",
       "     2.0      38\n",
       "6.0  0.0     701\n",
       "     2.0      25\n",
       "7.0  0.0     597\n",
       "     2.0      26\n",
       "8.0  0.0     669\n",
       "     2.0      44\n",
       "9.0  0.0     640\n",
       "     2.0      35\n",
       "10.0 0.0     599\n",
       "     2.0      28\n",
       "11.0 0.0     642\n",
       "     2.0      42\n",
       "12.0 0.0     632\n",
       "     2.0      29\n",
       "13.0 0.0     633\n",
       "     2.0      36\n",
       "14.0 0.0     605\n",
       "     2.0      39\n",
       "15.0 0.0     632"
      ]
     },
     "execution_count": 36,
     "metadata": {},
     "output_type": "execute_result"
    }
   ],
   "source": [
    "# répartition quotidienne des ventes par catégorie\n",
    "# daily breakdown of sales per category\n",
    "\n",
    "daily_breakdown = october_data.groupby([df_global['date'].dt.day, df_global.categ])[['categ']].agg(['count'])\n",
    "daily_breakdown.head(30)"
   ]
  },
  {
   "cell_type": "markdown",
   "id": "87aaf4a1-21a3-4773-aebb-3d614d13896b",
   "metadata": {},
   "source": [
    "#### Conclusions 1 (sur le mois d'octobre):\n",
    "La comparaison indique que l'anomalie d'octobre pourrait être liée aux ventes d'articles de la catégorie 1. Les données montrent un certain nombre de jours où cette catégorie n'a pas été vendue du tout. Les raisons potentielles de ce phénomène sont\n",
    "- corruption des données (les données sont incorrectes, la catégorie 1 a été vendue mais n'a jamais été enregistrée dans la base de données)\n",
    "- anomalie des ventes (les données sont correctes, les clients n'ont pas acheté la catégorie 1 en octobre autant qu'avant ou après).\n",
    "\n",
    "Comparison indicates that October anomaly might be connected to sales of items from Category 1. Data shows certain amount of days when this category was never sold at all. Potential reasons for this are:\n",
    "- data corruption (data is incorrect, category 1 was sold but never saved in the database)\n",
    "- sales anomaly (data is correct, customers were not buying category 1 in October as much as before or after)"
   ]
  },
  {
   "cell_type": "code",
   "execution_count": 37,
   "id": "8f1033a1",
   "metadata": {},
   "outputs": [
    {
     "name": "stdout",
     "output_type": "stream",
     "text": [
      "Mean price of our products is 21.86359707851491\n",
      "Median price of our products is 13.075\n",
      "Mode price of our products is 4.99\n"
     ]
    }
   ],
   "source": [
    "# l'analyse de la tarification globale du produit\n",
    "# analysing overall product pricing\n",
    "\n",
    "print('Mean price of our products is ' + str(products['price'].mean()))\n",
    "print('Median price of our products is ' + str(products['price'].median()))\n",
    "print('Mode price of our products is ' + str(products['price'].mode()[0]))"
   ]
  },
  {
   "cell_type": "code",
   "execution_count": 38,
   "id": "034bbf83",
   "metadata": {
    "tags": []
   },
   "outputs": [
    {
     "name": "stdout",
     "output_type": "stream",
     "text": [
      "--------------------\n",
      "0\n",
      "mean:\n",
      " 11.732794627383015\n",
      "med:\n",
      " 10.32\n",
      "mod:\n",
      " 4.99\n",
      "describe:\n",
      " count    2308.000000\n",
      "mean       11.732795\n",
      "std         7.565755\n",
      "min         0.620000\n",
      "25%         5.587500\n",
      "50%        10.320000\n",
      "75%        16.655000\n",
      "max        40.990000\n",
      "Name: price, dtype: float64\n",
      "var:\n",
      " 57.21584717272676\n",
      "ect:\n",
      " 7.5641157561691745\n",
      "skw:\n",
      " 0.8387209779498822\n",
      "kur:\n",
      " 0.3324478551097827\n"
     ]
    },
    {
     "data": {
      "image/png": "[encoded data removed]",
      "text/plain": [
       "<Figure size 720x360 with 1 Axes>"
      ]
     },
     "metadata": {
      "needs_background": "light"
     },
     "output_type": "display_data"
    },
    {
     "data": {
      "image/png": "[encoded data removed]",
      "text/plain": [
       "<Figure size 720x360 with 1 Axes>"
      ]
     },
     "metadata": {
      "needs_background": "light"
     },
     "output_type": "display_data"
    },
    {
     "name": "stdout",
     "output_type": "stream",
     "text": [
      "--------------------\n",
      "1\n",
      "mean:\n",
      " 25.531420838971584\n",
      "med:\n",
      " 22.99\n",
      "mod:\n",
      " 22.99\n",
      "describe:\n",
      " count    739.000000\n",
      "mean      25.531421\n",
      "std       15.425162\n",
      "min        2.000000\n",
      "25%       13.390000\n",
      "50%       22.990000\n",
      "75%       33.990000\n",
      "max       80.990000\n",
      "Name: price, dtype: float64\n",
      "var:\n",
      " 237.6136430421097\n",
      "ect:\n",
      " 15.414721633623802\n",
      "skw:\n",
      " 0.8120109621070365\n",
      "kur:\n",
      " 0.2993533794236898\n"
     ]
    },
    {
     "data": {
      "image/png": "[encoded data removed]",
      "text/plain": [
       "<Figure size 720x360 with 1 Axes>"
      ]
     },
     "metadata": {
      "needs_background": "light"
     },
     "output_type": "display_data"
    },
    {
     "data": {
      "image/png": "[encoded data removed]",
      "text/plain": [
       "<Figure size 720x360 with 1 Axes>"
      ]
     },
     "metadata": {
      "needs_background": "light"
     },
     "output_type": "display_data"
    },
    {
     "name": "stdout",
     "output_type": "stream",
     "text": [
      "--------------------\n",
      "2\n",
      "mean:\n",
      " 108.35468619246862\n",
      "med:\n",
      " 101.99\n",
      "mod:\n",
      " 50.99\n",
      "describe:\n",
      " count    239.000000\n",
      "mean     108.354686\n",
      "std       49.561431\n",
      "min       30.990000\n",
      "25%       71.065000\n",
      "50%      101.990000\n",
      "75%      136.530000\n",
      "max      300.000000\n",
      "Name: price, dtype: float64\n",
      "var:\n",
      " 2446.0578977048726\n",
      "ect:\n",
      " 49.45763740520641\n",
      "skw:\n",
      " 0.9310209579538592\n",
      "kur:\n",
      " 0.808968484300689\n"
     ]
    },
    {
     "data": {
      "image/png": "[encoded data removed]",
      "text/plain": [
       "<Figure size 720x360 with 1 Axes>"
      ]
     },
     "metadata": {
      "needs_background": "light"
     },
     "output_type": "display_data"
    },
    {
     "data": {
      "image/png": "[encoded data removed]",
      "text/plain": [
       "<Figure size 720x360 with 1 Axes>"
      ]
     },
     "metadata": {
      "needs_background": "light"
     },
     "output_type": "display_data"
    }
   ],
   "source": [
    "# analyser chaque catégorie de produits et sa tarification\n",
    "# analysing each product category and its pricing\n",
    "\n",
    "for cat in products['categ'].unique():\n",
    "    subset = products[products.categ == cat] # Creation of sub-sample\n",
    "    print(\"-\"*20)\n",
    "    print(cat)\n",
    "    print(\"mean:\\n\",subset['price'].mean())\n",
    "    print(\"med:\\n\",subset['price'].median())\n",
    "    print(\"mod:\\n\",subset['price'].mode()[0])\n",
    "    print(\"describe:\\n\",subset['price'].describe())\n",
    "    print(\"var:\\n\",subset['price'].var(ddof=0))\n",
    "    print(\"ect:\\n\",subset['price'].std(ddof=0))\n",
    "    print(\"skw:\\n\",subset['price'].skew())\n",
    "    print(\"kur:\\n\",subset['price'].kurtosis())\n",
    "    plt.figure(figsize=(10,5)) \n",
    "    subset[\"price\"].hist()\n",
    "    plt.title(f'Pricing distribution, product category {cat}', fontsize=15)\n",
    "    plt.xlabel('Price')\n",
    "    plt.ylabel('Amount of products')\n",
    "    plt.savefig(\n",
    "        fname=f'Category_{cat}_1.jpg', dpi=100, format='jpg',\n",
    "        orientation='landscape', bbox_inches='tight')\n",
    "    plt.show()\n",
    "    plt.figure(figsize=(10,5)) \n",
    "    subset.boxplot(column=\"price\", vert=False)\n",
    "    plt.title(f'Pricing distribution, product category {cat}', fontsize=15)\n",
    "    plt.xlabel('Price')\n",
    "    plt.ylabel(f'Category {cat}')\n",
    "    plt.savefig(\n",
    "        fname=f'Category_{cat}_2.jpg', dpi=100, format='jpg',\n",
    "        orientation='landscape', bbox_inches='tight')\n",
    "    plt.show()"
   ]
  },
  {
   "cell_type": "markdown",
   "id": "ad59a06c-051f-4f3f-ba8c-2a4aa9ee573e",
   "metadata": {},
   "source": [
    "#### Conclusions 2 (la tarification):\n",
    "Le prix moyen de nos produits est de 21,9 EUR. Le prix le plus courant est de 4,99 EUR.\n",
    "\n",
    "L'analyse de chaque catégorie de produits.\\\n",
    "La catégorie de produits la moins chère est \"0\" avec un prix moyen de 11,7 EUR. La majorité des produits de cette catégorie ont un prix compris entre 5,6 et 16,7 EUR. Le prix le plus courant est de 4,99 EUR.\n",
    "La catégorie \"1\" est la deuxième plus abordable, avec un prix moyen de 25,5 EUR. Le prix le plus courant est de 22,99 EUR. La majorité des produits de cette catégorie ont un prix compris entre 13,4 et 33,99 EUR.\n",
    "La catégorie \"2\" regroupe nos produits haut de gamme. Le prix moyen est de 108 EUR. Le prix le plus courant est de 50,99 EUR. La majorité des produits de cette catégorie ont un prix compris entre 71 et 137 EUR.\n",
    "\n",
    "Conclusions about pricing:\\\n",
    "Average price of our products is 21.9 EUR. The most common pricing point is 4.99 EUR.\n",
    "\n",
    "Breakdown by each product category.\\\n",
    "Cheapest product category is \"0\" with average of 11.7 EUR. Majority of the products in this category are priced between 5.6 and 16.7 EUR. Most common pricing point is 4.99 EUR.\n",
    "Category \"1\" is second affordable, with average price of 25.5 EUR. Most common pricing point is 22.99 EUR. Majority of products in this category are priced between 13.4 and 33.99 EUR.\n",
    "Category \"2\" is our premium products. Average price is 108 EUR. Most common pricing point is 50.99 EUR. Majority of products in this category are priced between 71 and 137 EUR."
   ]
  },
  {
   "cell_type": "code",
   "execution_count": 39,
   "id": "731f604b",
   "metadata": {},
   "outputs": [
    {
     "data": {
      "text/html": [
       "<div>\n",
       "<style scoped>\n",
       "    .dataframe tbody tr th:only-of-type {\n",
       "        vertical-align: middle;\n",
       "    }\n",
       "\n",
       "    .dataframe tbody tr th {\n",
       "        vertical-align: top;\n",
       "    }\n",
       "\n",
       "    .dataframe thead th {\n",
       "        text-align: right;\n",
       "    }\n",
       "</style>\n",
       "<table border=\"1\" class=\"dataframe\">\n",
       "  <thead>\n",
       "    <tr style=\"text-align: right;\">\n",
       "      <th></th>\n",
       "      <th>client_id</th>\n",
       "      <th>price</th>\n",
       "      <th>categ</th>\n",
       "    </tr>\n",
       "  </thead>\n",
       "  <tbody>\n",
       "    <tr>\n",
       "      <th>677</th>\n",
       "      <td>c_1609</td>\n",
       "      <td>162007.34</td>\n",
       "      <td>2570.0</td>\n",
       "    </tr>\n",
       "    <tr>\n",
       "      <th>4388</th>\n",
       "      <td>c_4958</td>\n",
       "      <td>144257.21</td>\n",
       "      <td>4208.0</td>\n",
       "    </tr>\n",
       "    <tr>\n",
       "      <th>6337</th>\n",
       "      <td>c_6714</td>\n",
       "      <td>73197.34</td>\n",
       "      <td>1971.0</td>\n",
       "    </tr>\n",
       "    <tr>\n",
       "      <th>2724</th>\n",
       "      <td>c_3454</td>\n",
       "      <td>54442.92</td>\n",
       "      <td>1953.0</td>\n",
       "    </tr>\n",
       "    <tr>\n",
       "      <th>7715</th>\n",
       "      <td>c_7959</td>\n",
       "      <td>2564.25</td>\n",
       "      <td>38.0</td>\n",
       "    </tr>\n",
       "    <tr>\n",
       "      <th>3870</th>\n",
       "      <td>c_4491</td>\n",
       "      <td>2540.53</td>\n",
       "      <td>53.0</td>\n",
       "    </tr>\n",
       "    <tr>\n",
       "      <th>7791</th>\n",
       "      <td>c_8026</td>\n",
       "      <td>2537.67</td>\n",
       "      <td>40.0</td>\n",
       "    </tr>\n",
       "    <tr>\n",
       "      <th>1268</th>\n",
       "      <td>c_2140</td>\n",
       "      <td>2527.01</td>\n",
       "      <td>43.0</td>\n",
       "    </tr>\n",
       "    <tr>\n",
       "      <th>8195</th>\n",
       "      <td>c_8392</td>\n",
       "      <td>2515.98</td>\n",
       "      <td>41.0</td>\n",
       "    </tr>\n",
       "    <tr>\n",
       "      <th>7120</th>\n",
       "      <td>c_7421</td>\n",
       "      <td>2511.98</td>\n",
       "      <td>43.0</td>\n",
       "    </tr>\n",
       "  </tbody>\n",
       "</table>\n",
       "</div>"
      ],
      "text/plain": [
       "     client_id      price   categ\n",
       "677     c_1609  162007.34  2570.0\n",
       "4388    c_4958  144257.21  4208.0\n",
       "6337    c_6714   73197.34  1971.0\n",
       "2724    c_3454   54442.92  1953.0\n",
       "7715    c_7959    2564.25    38.0\n",
       "3870    c_4491    2540.53    53.0\n",
       "7791    c_8026    2537.67    40.0\n",
       "1268    c_2140    2527.01    43.0\n",
       "8195    c_8392    2515.98    41.0\n",
       "7120    c_7421    2511.98    43.0"
      ]
     },
     "execution_count": 39,
     "metadata": {},
     "output_type": "execute_result"
    }
   ],
   "source": [
    "# les clients qui dépensent le plus\n",
    "# top 10 spending customers\n",
    "\n",
    "csm_spending = sessions.groupby(['client_id']).sum('price')\n",
    "csm_spending = csm_spending.reset_index()\n",
    "\n",
    "csm_spending.sort_values(by='price', ascending=False).head(10)"
   ]
  },
  {
   "cell_type": "code",
   "execution_count": 40,
   "id": "6f25bbe8-8968-4fb6-907d-a476bef61e4f",
   "metadata": {},
   "outputs": [],
   "source": [
    "# save a list of clients who are clear outliers\n",
    "\n",
    "spending_outliers = csm_spending.sort_values(by='price', ascending=False).head(4)\n",
    "spending_outliers = spending_outliers['client_id'].values"
   ]
  },
  {
   "cell_type": "code",
   "execution_count": 41,
   "id": "ed437821",
   "metadata": {},
   "outputs": [
    {
     "name": "stdout",
     "output_type": "stream",
     "text": [
      "Gini index is 0.4397099070275077\n"
     ]
    },
    {
     "data": {
      "image/png": "[encoded data removed]",
      "text/plain": [
       "<Figure size 720x360 with 1 Axes>"
      ]
     },
     "metadata": {
      "needs_background": "light"
     },
     "output_type": "display_data"
    }
   ],
   "source": [
    "# Lorenz curve et Gini index\n",
    "\n",
    "spending = pd.DataFrame(csm_spending['price'].sort_values(ascending=True))\n",
    "spending = spending.to_numpy()\n",
    "spending\n",
    "\n",
    "def lorenz(x):\n",
    "    scaled_prefix_sum = x.cumsum() / x.sum()\n",
    "    return np.insert(scaled_prefix_sum, 0, 0)\n",
    "\n",
    "def gini(x, w=None):\n",
    "    # The rest of the code requires numpy arrays.\n",
    "    x = np.asarray(x)\n",
    "    if w is not None:\n",
    "        w = np.asarray(w)\n",
    "        sorted_indices = np.argsort(x)\n",
    "        sorted_x = x[sorted_indices]\n",
    "        sorted_w = w[sorted_indices]\n",
    "        # Force float dtype to avoid overflows\n",
    "        cumw = np.cumsum(sorted_w, dtype=float)\n",
    "        cumxw = np.cumsum(sorted_x * sorted_w, dtype=float)\n",
    "        return (np.sum(cumxw[1:] * cumw[:-1] - cumxw[:-1] * cumw[1:]) / \n",
    "                (cumxw[-1] * cumw[-1]))\n",
    "    else:\n",
    "        sorted_x = np.sort(x)\n",
    "        n = len(x)\n",
    "        cumx = np.cumsum(sorted_x, dtype=float)\n",
    "        # The above formula, with all weights equal to 1 simplifies to:\n",
    "        return (n + 1 - 2 * np.sum(cumx) / cumx[-1]) / n\n",
    "\n",
    "print('Gini index is', gini(spending))\n",
    "\n",
    "lorenz_curve = lorenz(spending)\n",
    "\n",
    "plt.figure(figsize=(10,5))\n",
    "plt.plot(np.linspace(0.0, 1.0, lorenz_curve.size), lorenz_curve)\n",
    "plt.plot([0,1], [0,1])\n",
    "plt.title('Distribution of spending (Lorenz curve)', fontsize=15)\n",
    "plt.xlabel('% of customers')\n",
    "plt.ylabel('% of spending')\n",
    "plt.savefig(\n",
    "    fname='LorenzCurve_csm_wealth.jpg', dpi=100, format='jpg',\n",
    "    orientation='landscape', bbox_inches='tight')\n",
    "plt.show();"
   ]
  },
  {
   "cell_type": "markdown",
   "id": "7f6b5398-6671-4a26-a50b-6fabe2e4055c",
   "metadata": {},
   "source": [
    "#### Conclusions 3 (répartition des richesses):\n",
    "Nous pouvons voir ici la liste des clients qui ont dépensé le plus au cours de cette année. Il y a clairement 4 clients qui dépensent beaucoup plus que les autres, nous devons les considérer comme des valeurs aberrantes pour l'analyse.\n",
    "\n",
    "En utilisant l'indice de Gini et la courbe de Lorenz, nous pouvons voir la distribution des dépenses parmi nos clients. La visualisation nous montre une distribution normale (ligne bleue) qui n'est pas très éloignée de l'idéal (ligne orange). L'indice de Gini de 0,43 confirme que l'inégalité est moyenne (un indice de Gini de 0 correspond à une distribution parfaite, 1 à une inégalité maximale).\n",
    "\n",
    "Conclusions 3 (wealth distribution):\\\n",
    "Here we can see the list of customers who spent the most over this year. There are clearly 4 customers who spend a lot more compared to others, we need to consider them as outliers for analysis.\n",
    "\n",
    "Using Gini index and Lorenz curve we can see the distribution of spending among our customers. Visualization shows us a normal distribution (blue line) that is not very far from ideal (orange line). Gini index of 0.43 confirms that inequality is average (gini of 0 is perfect distribution, 1 is for maximum inequality)"
   ]
  },
  {
   "cell_type": "markdown",
   "id": "da254eb6",
   "metadata": {
    "tags": []
   },
   "source": [
    "# Mission n° 3\n",
    "Voici quelques questions supplémentaires, que votre manager vous a posées :\n",
    "\n",
    "1) Y a-t-il une corrélation entre le sexe des clients et les catégories de produits achetés ? \\\n",
    "2) Y a-t-il une corrélation entre l'âge des clients et : \\\n",
    "    - Le montant total des achats ; \\\n",
    "    - La fréquence d’achat (ie. nombre d'achats par mois par exemple) ; \\\n",
    "    - La taille du panier moyen (en nombre d’articles) ; \\\n",
    "    - Les catégories de produits achetés. \\\n",
    "    \n",
    "Pour les corrélations, pas besoin d'effectuer en entier les tests (chi-2, ANOVA, etc.). Seul le calcul des statistiques de test est demandé (\\(r^2, \\eta^2, \\xi_n\\)).\n",
    "\n",
    "Here are some additional questions, which your manager has asked you:\n",
    "\n",
    "1) Is there a correlation between the gender of the customers and the categories of products purchased? \\\n",
    "2) Is there a correlation between the age of the customers and :\n",
    "- Total amount of purchases ;\n",
    "- Frequency of purchase (i.e. number of purchases per month for example);\n",
    "- The size of the average basket (in number of items);\n",
    "- The categories of products purchased. \\\n",
    "\n",
    "For correlations, there is no need to perform the full tests (chi-2, ANOVA, etc.). Only the calculation of the test statistics is required ((r^2, \\eta^2, \\xi_n))."
   ]
  },
  {
   "cell_type": "code",
   "execution_count": 42,
   "id": "1e086336-f36b-49cb-9988-e941c8681ab9",
   "metadata": {},
   "outputs": [
    {
     "name": "stdout",
     "output_type": "stream",
     "text": [
      "6.88% of data rows were removed due to outliers.\n"
     ]
    }
   ],
   "source": [
    "# afin de conserver l'objectivité de l'analyse, nous supprimons les données liées aux dépenses aberrantes de global_df\n",
    "# in order to keep analysis objective we remove data connected to spending outliers from global_df\n",
    "\n",
    "old_shape = df_global.shape[0]\n",
    "\n",
    "df_global = df_global.loc[~df_global['client_id'].isin(spending_outliers)]\n",
    "\n",
    "new_shape = df_global.shape[0]\n",
    "\n",
    "print(str(\n",
    "    round((( (old_shape-new_shape) / old_shape) * 100), 2))\n",
    "      + \"% of data rows were removed due to outliers.\")"
   ]
  },
  {
   "cell_type": "code",
   "execution_count": 43,
   "id": "5ddba10f",
   "metadata": {},
   "outputs": [
    {
     "data": {
      "text/html": [
       "<div>\n",
       "<style scoped>\n",
       "    .dataframe tbody tr th:only-of-type {\n",
       "        vertical-align: middle;\n",
       "    }\n",
       "\n",
       "    .dataframe tbody tr th {\n",
       "        vertical-align: top;\n",
       "    }\n",
       "\n",
       "    .dataframe thead th {\n",
       "        text-align: right;\n",
       "    }\n",
       "</style>\n",
       "<table border=\"1\" class=\"dataframe\">\n",
       "  <thead>\n",
       "    <tr style=\"text-align: right;\">\n",
       "      <th>product_category</th>\n",
       "      <th>0.0</th>\n",
       "      <th>1.0</th>\n",
       "      <th>2.0</th>\n",
       "    </tr>\n",
       "    <tr>\n",
       "      <th>gender</th>\n",
       "      <th></th>\n",
       "      <th></th>\n",
       "      <th></th>\n",
       "    </tr>\n",
       "  </thead>\n",
       "  <tbody>\n",
       "    <tr>\n",
       "      <th>f</th>\n",
       "      <td>101148</td>\n",
       "      <td>53774</td>\n",
       "      <td>8122</td>\n",
       "    </tr>\n",
       "    <tr>\n",
       "      <th>m</th>\n",
       "      <td>94023</td>\n",
       "      <td>48851</td>\n",
       "      <td>7634</td>\n",
       "    </tr>\n",
       "  </tbody>\n",
       "</table>\n",
       "</div>"
      ],
      "text/plain": [
       "product_category     0.0    1.0   2.0\n",
       "gender                               \n",
       "f                 101148  53774  8122\n",
       "m                  94023  48851  7634"
      ]
     },
     "execution_count": 43,
     "metadata": {},
     "output_type": "execute_result"
    }
   ],
   "source": [
    "# sexe et catégorie de produit\n",
    "# sex vs prod_category\n",
    "\n",
    "gp = pd.crosstab(\n",
    "    df_global.sex, df_global.categ,\n",
    "    rownames=['gender'], colnames=['product_category'], margins=False)\n",
    "\n",
    "gp"
   ]
  },
  {
   "cell_type": "markdown",
   "id": "a9f1ae5a-753f-4ad5-af32-85eb6f835384",
   "metadata": {},
   "source": [
    "La catégorie de produit et le sexe sont tous deux des variables qualitatives. Dans ce cas, nous utilisons le Chi-2.\\\n",
    "Product category and gender both are qualitative variables. In this case we use Chi-2."
   ]
  },
  {
   "cell_type": "code",
   "execution_count": 44,
   "id": "f9951250-3b37-4da7-98aa-d6644331ed42",
   "metadata": {},
   "outputs": [],
   "source": [
    "chi2, p_value, dof, expected = st.chi2_contingency(gp)\n",
    "\n",
    "# returned values are: chi-2 test statistic | p-value | degree of freedom | expected values"
   ]
  },
  {
   "cell_type": "code",
   "execution_count": 45,
   "id": "35a230ce-2f1e-43d5-a37b-a61c30218b96",
   "metadata": {},
   "outputs": [
    {
     "name": "stdout",
     "output_type": "stream",
     "text": [
      "10.202417277273174\n",
      "0.00608938225335166946\n",
      "2\n",
      "[[101487.02774659  53364.00501352   8192.96723988]\n",
      " [ 93683.97225341  49260.99498648   7563.03276012]]\n"
     ]
    }
   ],
   "source": [
    "print(chi2)\n",
    "print((\"%.20f\" % p_value).rstrip('0').rstrip('.'))\n",
    "print(dof)\n",
    "print(expected)"
   ]
  },
  {
   "cell_type": "markdown",
   "id": "69da2a1b-1161-4de6-bc47-557981e27fb3",
   "metadata": {},
   "source": [
    "#### Conclusions sexe et catégorie de produit:\n",
    "Notre valeur alpha est de 0,05 (5%). Le degré de liberté est de 2, ce qui donne une région critique de chi carré = 5.99.\\\n",
    "Notre chi2 est de 10.2. Il est supérieur à 5,99, il tombe donc dans la région de rejet de la courbe de distribution du chi-deux.\n",
    "Tableau : https://passel2.unl.edu/view/lesson/9beaa382bf7e/8 \\\n",
    "Nous rejetons l'hypothèse nulle et acceptons l'hypothèse alternative.\\\n",
    "**Hypothèse alternative - les variables sont dépendantes les unes des autres.**\n",
    "\n",
    "Conclusions:\\\n",
    "Our alpha value is 0.05 (5%). Degree of freedom is 2. This makes critical chi-square region = 5.99.\\\n",
    "Our chi2 is 10.2. It is bigger than 5.99, so it falls into rejection region of chi-square distribution curve.\n",
    "Table: https://passel2.unl.edu/view/lesson/9beaa382bf7e/8 \\\n",
    "We reject Null hypothesis and accept Alternative hypothesis.\\\n",
    "**Alternative hypothesis - variables are dependent on each other.**"
   ]
  },
  {
   "cell_type": "code",
   "execution_count": 46,
   "id": "1f161f86",
   "metadata": {},
   "outputs": [
    {
     "data": {
      "text/html": [
       "<div>\n",
       "<style scoped>\n",
       "    .dataframe tbody tr th:only-of-type {\n",
       "        vertical-align: middle;\n",
       "    }\n",
       "\n",
       "    .dataframe tbody tr th {\n",
       "        vertical-align: top;\n",
       "    }\n",
       "\n",
       "    .dataframe thead th {\n",
       "        text-align: right;\n",
       "    }\n",
       "</style>\n",
       "<table border=\"1\" class=\"dataframe\">\n",
       "  <thead>\n",
       "    <tr style=\"text-align: right;\">\n",
       "      <th></th>\n",
       "      <th>age</th>\n",
       "      <th>total_spent</th>\n",
       "    </tr>\n",
       "  </thead>\n",
       "  <tbody>\n",
       "    <tr>\n",
       "      <th>0</th>\n",
       "      <td>92.0</td>\n",
       "      <td>86</td>\n",
       "    </tr>\n",
       "    <tr>\n",
       "      <th>1</th>\n",
       "      <td>91.0</td>\n",
       "      <td>115</td>\n",
       "    </tr>\n",
       "    <tr>\n",
       "      <th>2</th>\n",
       "      <td>90.0</td>\n",
       "      <td>84</td>\n",
       "    </tr>\n",
       "    <tr>\n",
       "      <th>3</th>\n",
       "      <td>89.0</td>\n",
       "      <td>159</td>\n",
       "    </tr>\n",
       "    <tr>\n",
       "      <th>4</th>\n",
       "      <td>88.0</td>\n",
       "      <td>163</td>\n",
       "    </tr>\n",
       "    <tr>\n",
       "      <th>...</th>\n",
       "      <td>...</td>\n",
       "      <td>...</td>\n",
       "    </tr>\n",
       "    <tr>\n",
       "      <th>71</th>\n",
       "      <td>21.0</td>\n",
       "      <td>2174</td>\n",
       "    </tr>\n",
       "    <tr>\n",
       "      <th>72</th>\n",
       "      <td>20.0</td>\n",
       "      <td>2036</td>\n",
       "    </tr>\n",
       "    <tr>\n",
       "      <th>73</th>\n",
       "      <td>19.0</td>\n",
       "      <td>2224</td>\n",
       "    </tr>\n",
       "    <tr>\n",
       "      <th>74</th>\n",
       "      <td>18.0</td>\n",
       "      <td>2183</td>\n",
       "    </tr>\n",
       "    <tr>\n",
       "      <th>75</th>\n",
       "      <td>17.0</td>\n",
       "      <td>7351</td>\n",
       "    </tr>\n",
       "  </tbody>\n",
       "</table>\n",
       "<p>76 rows × 2 columns</p>\n",
       "</div>"
      ],
      "text/plain": [
       "     age  total_spent\n",
       "0   92.0           86\n",
       "1   91.0          115\n",
       "2   90.0           84\n",
       "3   89.0          159\n",
       "4   88.0          163\n",
       "..   ...          ...\n",
       "71  21.0         2174\n",
       "72  20.0         2036\n",
       "73  19.0         2224\n",
       "74  18.0         2183\n",
       "75  17.0         7351\n",
       "\n",
       "[76 rows x 2 columns]"
      ]
     },
     "execution_count": 46,
     "metadata": {},
     "output_type": "execute_result"
    }
   ],
   "source": [
    "# âge vs montant total dépensé\n",
    "# age vs total spent\n",
    "\n",
    "spending = pd.crosstab(\n",
    "    df_global.birth, df_global.price.sum(),\n",
    "    rownames=['DOB'], colnames=['spending']).reset_index()\n",
    "\n",
    "spending['DOB'] = 2021 - spending['DOB']\n",
    "\n",
    "spending = spending.rename(\n",
    "    columns={'DOB':'age', spending.columns[1]:'total_spent'})\n",
    "\n",
    "spending.index.name = None\n",
    "spending.columns.name = None\n",
    "\n",
    "spending"
   ]
  },
  {
   "cell_type": "code",
   "execution_count": 47,
   "id": "2b5e93c6-1c30-4ddf-b5ce-33ceab9486f0",
   "metadata": {},
   "outputs": [
    {
     "data": {
      "image/png": "[encoded data removed]",
      "text/plain": [
       "<Figure size 1080x360 with 1 Axes>"
      ]
     },
     "metadata": {
      "needs_background": "light"
     },
     "output_type": "display_data"
    },
    {
     "data": {
      "image/png": "[encoded data removed]",
      "text/plain": [
       "<Figure size 1080x360 with 1 Axes>"
      ]
     },
     "metadata": {
      "needs_background": "light"
     },
     "output_type": "display_data"
    }
   ],
   "source": [
    "# visualisation des données\n",
    "# visualizing data\n",
    "\n",
    "plt.figure(figsize=(15,5))\n",
    "plt.bar(spending['age'], spending['total_spent'])\n",
    "\n",
    "plt.title('Age and Total spending', fontsize=15)\n",
    "plt.xlabel('Age')\n",
    "plt.ylabel('Total spending')\n",
    "\n",
    "plt.savefig(\n",
    "    fname='age_vs_totalspending_distribution_1.jpg', dpi=100, format='jpg',\n",
    "    orientation='landscape', bbox_inches='tight')\n",
    "plt.show();\n",
    "\n",
    "plt.figure(figsize=(15,5))\n",
    "sns.regplot(x=spending['age'], y=spending['total_spent'])\n",
    "\n",
    "plt.title('Age and Total spending', fontsize=15)\n",
    "plt.xlabel('Age')\n",
    "plt.ylabel('Total spending')\n",
    "\n",
    "plt.savefig(\n",
    "    fname='age_vs_totalspending_distribution_2.jpg', dpi=100, format='jpg',\n",
    "    orientation='landscape', bbox_inches='tight')\n",
    "plt.show();"
   ]
  },
  {
   "cell_type": "markdown",
   "id": "a7ab252f-4a89-49ba-bcbc-c1ce6a8ad63e",
   "metadata": {},
   "source": [
    "Both variables are quantitative. We will use Pearson correlation."
   ]
  },
  {
   "cell_type": "code",
   "execution_count": 48,
   "id": "23b71a15-f0ec-4cff-a30b-bcc86011cc0b",
   "metadata": {},
   "outputs": [
    {
     "name": "stdout",
     "output_type": "stream",
     "text": [
      "Coefficient of linear correlation is(r value): -0.5705117237188833\n",
      "R squared is: 0.3254836269006914\n",
      "p-value is: 7.433104584149938e-08\n"
     ]
    }
   ],
   "source": [
    "# r value, Pearson linear correlation. OC course method \n",
    "\n",
    "print('Coefficient of linear correlation is' + '(' + 'r value' + ')' + ': ' + str(st.pearsonr(spending['age'], spending['total_spent'])[0]))\n",
    "print('R squared is: ' + str(st.pearsonr(spending['age'], spending['total_spent'])[0]**2))\n",
    "print('p-value is: ' + str(st.pearsonr(spending['age'], spending['total_spent'])[1]))"
   ]
  },
  {
   "cell_type": "code",
   "execution_count": 49,
   "id": "1536a587",
   "metadata": {},
   "outputs": [
    {
     "name": "stdout",
     "output_type": "stream",
     "text": [
      "r squared value is: 0.32548362690069127\n",
      "r value is: -0.5705117237188831\n"
     ]
    }
   ],
   "source": [
    "# r value, Pearson linear correlation. Using scipy.stats\n",
    "\n",
    "data2 = [spending.age.values, spending.total_spent.values]\n",
    "\n",
    "slope, intercept, r_value, p_value, std_err = st.linregress(data2)\n",
    "print('r squared value is: ' + str(r_value**2))\n",
    "print('r value is: ' + str(r_value))"
   ]
  },
  {
   "cell_type": "markdown",
   "id": "80fa36bc-3f28-4e12-b30c-9dbd75b8d34a",
   "metadata": {},
   "source": [
    "#### Conclusions âge vs montant total dépensé:\n",
    "La valeur r de -0.57 indique l'existence **d'une corrélation négative moyenne**. Lorsque l'âge augmente, le total_dépenses diminue et vice versa.\n",
    "\n",
    "La visualisation nous montre la distribution des dépenses dans chaque groupe d'âge. Les personnes âgées de 41 ans sont celles qui dépensent le plus.\n",
    "Une autre visualisation avec la ligne de régression confirme la valeur r (corrélation négative moyenne), et nous montre qu'il y a plus de variance chez les jeunes clients et beaucoup moins chez les plus âgés.\n",
    "\n",
    "Conclusions:\\\n",
    "r value of -0.57 indicates existance of **medium negative correlation**. When age increases, total_spent decreases and vice versa.\n",
    "\n",
    "Visualization shows us distribution of spending in each age group. People aged 41 spend the most.\n",
    "Another visualization with regression line confirms r value (medium negative correlation), plus shows us there is more variance in younger customers and much less in older ones."
   ]
  },
  {
   "cell_type": "code",
   "execution_count": 50,
   "id": "134d8552",
   "metadata": {},
   "outputs": [
    {
     "data": {
      "text/html": [
       "<div>\n",
       "<style scoped>\n",
       "    .dataframe tbody tr th:only-of-type {\n",
       "        vertical-align: middle;\n",
       "    }\n",
       "\n",
       "    .dataframe tbody tr th {\n",
       "        vertical-align: top;\n",
       "    }\n",
       "\n",
       "    .dataframe thead th {\n",
       "        text-align: right;\n",
       "    }\n",
       "</style>\n",
       "<table border=\"1\" class=\"dataframe\">\n",
       "  <thead>\n",
       "    <tr style=\"text-align: right;\">\n",
       "      <th></th>\n",
       "      <th>age</th>\n",
       "      <th>purchase_frequency</th>\n",
       "    </tr>\n",
       "  </thead>\n",
       "  <tbody>\n",
       "    <tr>\n",
       "      <th>19</th>\n",
       "      <td>73.0</td>\n",
       "      <td>91.583333</td>\n",
       "    </tr>\n",
       "    <tr>\n",
       "      <th>55</th>\n",
       "      <td>37.0</td>\n",
       "      <td>852.666667</td>\n",
       "    </tr>\n",
       "    <tr>\n",
       "      <th>40</th>\n",
       "      <td>52.0</td>\n",
       "      <td>320.500000</td>\n",
       "    </tr>\n",
       "  </tbody>\n",
       "</table>\n",
       "</div>"
      ],
      "text/plain": [
       "     age  purchase_frequency\n",
       "19  73.0           91.583333\n",
       "55  37.0          852.666667\n",
       "40  52.0          320.500000"
      ]
     },
     "execution_count": 50,
     "metadata": {},
     "output_type": "execute_result"
    }
   ],
   "source": [
    "# âge et fréquence des achats\n",
    "# age vs frequency of purchase\n",
    "\n",
    "purchase_freq = pd.crosstab(df_global['birth'], df_global.date.dt.year)\n",
    "\n",
    "# new col indicating age\n",
    "purchase_freq['age'] = 2021 - purchase_freq.index.values\n",
    "\n",
    "# remove index name and columns name\n",
    "purchase_freq.columns.name = None\n",
    "purchase_freq.index.name = None\n",
    "\n",
    "purchase_freq = purchase_freq.reset_index(drop=True)\n",
    "\n",
    "# create new col with total amount of purchases divided by 12 months.\n",
    "# Data present from March 1st 2021 till March 1st 2022.\n",
    "purchase_freq['purchase_frequency'] = (purchase_freq[2021] + purchase_freq[2022]) / 12\n",
    "\n",
    "purchase_freq.drop(columns=[2021, 2022], inplace=True)\n",
    "\n",
    "purchase_freq.sample(3)"
   ]
  },
  {
   "cell_type": "code",
   "execution_count": 51,
   "id": "f0cb1ff6-c76a-4185-86d5-998e907ea041",
   "metadata": {},
   "outputs": [
    {
     "data": {
      "image/png": "[encoded data removed]",
      "text/plain": [
       "<Figure size 1080x360 with 1 Axes>"
      ]
     },
     "metadata": {
      "needs_background": "light"
     },
     "output_type": "display_data"
    },
    {
     "data": {
      "image/png": "[encoded data removed]",
      "text/plain": [
       "<Figure size 1080x360 with 1 Axes>"
      ]
     },
     "metadata": {
      "needs_background": "light"
     },
     "output_type": "display_data"
    }
   ],
   "source": [
    "# visualisation des données\n",
    "# visualizing data\n",
    "\n",
    "plt.figure(figsize=(15,5))\n",
    "plt.bar(purchase_freq['age'], purchase_freq['purchase_frequency'])\n",
    "\n",
    "plt.title('Age and frequency of purchases', fontsize=15)\n",
    "plt.xlabel('Age')\n",
    "plt.ylabel('Frequency of purchases')\n",
    "\n",
    "plt.savefig(\n",
    "    fname='age_vs_freqpurchase_1.jpg', dpi=100, format='jpg',\n",
    "    orientation='landscape', bbox_inches='tight')\n",
    "plt.show();\n",
    "\n",
    "plt.figure(figsize=(15,5))\n",
    "sns.regplot(x=purchase_freq['age'], y=purchase_freq['purchase_frequency'])\n",
    "\n",
    "plt.title('Age and frequency of purchases', fontsize=15)\n",
    "plt.xlabel('Age')\n",
    "plt.ylabel('Frequency of purchases')\n",
    "\n",
    "plt.savefig(\n",
    "    fname='age_vs_freqpurchase_2.jpg', dpi=100, format='jpg',\n",
    "    orientation='landscape', bbox_inches='tight')\n",
    "plt.show();"
   ]
  },
  {
   "cell_type": "markdown",
   "id": "b7e47c7e-f25b-4703-af5d-be0e3ddc9447",
   "metadata": {},
   "source": [
    "Both variables are quantitative, using Pearson correlation."
   ]
  },
  {
   "cell_type": "code",
   "execution_count": 52,
   "id": "41ebf565-a33a-436a-8b2b-1afb9d265f81",
   "metadata": {},
   "outputs": [
    {
     "name": "stdout",
     "output_type": "stream",
     "text": [
      "Coefficient of linear correlation is: -0.5704319883233265\n",
      "R squared is: 0.3253926533025037\n",
      "p-value is: 7.471257216702838e-08\n"
     ]
    }
   ],
   "source": [
    "# r value, Pearson linear correlation. OC course method \n",
    "\n",
    "print('Coefficient of linear correlation is: ' + str(st.pearsonr(purchase_freq['age'], purchase_freq['purchase_frequency'])[0]))\n",
    "print('R squared is: ' + str(st.pearsonr(purchase_freq['age'], purchase_freq['purchase_frequency'])[0]**2))\n",
    "print('p-value is: ' + str(st.pearsonr(purchase_freq['age'], purchase_freq['purchase_frequency'])[1]))"
   ]
  },
  {
   "cell_type": "code",
   "execution_count": 53,
   "id": "fc34e6f9-c45b-465a-884f-1078149c1a60",
   "metadata": {},
   "outputs": [
    {
     "name": "stdout",
     "output_type": "stream",
     "text": [
      "r squared value is: 0.325392653302504\n",
      "r value is: -0.5704319883233268\n"
     ]
    }
   ],
   "source": [
    "# r value, Pearson linear correlation. Using scipy.stats\n",
    "\n",
    "data3 = [purchase_freq.age.values, purchase_freq.purchase_frequency.values]\n",
    "\n",
    "slope, intercept, r_value, p_value, std_err = st.linregress(data3)\n",
    "print('r squared value is: ' + str(r_value**2))\n",
    "print('r value is: ' + str(r_value))"
   ]
  },
  {
   "cell_type": "markdown",
   "id": "76562ebd-b139-44b4-95d9-c0dd932d88c8",
   "metadata": {},
   "source": [
    "#### Conclusions âge et fréquence des achats:\n",
    "Le coefficient de corrélation de Pearsons de -0.57 montre une **corrélation négative moyenne**. Plus l'âge augmente, plus la fréquence des achats diminue et vice versa.\n",
    "La visualisation nous montre la distribution des dépenses dans chaque groupe d'âge. Les personnes âgées de 41 ans sont celles qui achètent le plus de produits.\n",
    "Une autre visualisation avec la ligne de régression confirme la valeur r (corrélation négative moyenne), et nous montre qu'il y a plus de variance chez les jeunes clients et beaucoup moins chez les plus âgés.\n",
    "En outre, nous pouvons voir 3 groupes distincts de clients en fonction de leur fréquence d'achat. Les 18-29 ans, les 30-53 ans et les 54-95 ans achètent des produits à des fréquences différentes.\n",
    "\n",
    "Conclusions:\\\n",
    "Pearsons correlation coefficient of -0.57 shows **medium negative correlation**. As age increases, frequency of purchases decreases and vice versa.\n",
    "Visualization shows us distribution of spending in each age group. People aged 41 buy the most amount of products.\n",
    "Another visualization with regression line confirms r value (medium negative correlation), plus shows us there is more variance in younger customers and much less in older ones.\n",
    "Additionally, we can see 3 distinct clusters of customers by their purchase frequency. Ages 18-29, 30-53 and 54-95 buy products with different frequency."
   ]
  },
  {
   "cell_type": "code",
   "execution_count": 54,
   "id": "f5cd03f2",
   "metadata": {},
   "outputs": [
    {
     "data": {
      "text/html": [
       "<div>\n",
       "<style scoped>\n",
       "    .dataframe tbody tr th:only-of-type {\n",
       "        vertical-align: middle;\n",
       "    }\n",
       "\n",
       "    .dataframe tbody tr th {\n",
       "        vertical-align: top;\n",
       "    }\n",
       "\n",
       "    .dataframe thead th {\n",
       "        text-align: right;\n",
       "    }\n",
       "</style>\n",
       "<table border=\"1\" class=\"dataframe\">\n",
       "  <thead>\n",
       "    <tr style=\"text-align: right;\">\n",
       "      <th></th>\n",
       "      <th>avg_basket_size</th>\n",
       "      <th>age</th>\n",
       "    </tr>\n",
       "  </thead>\n",
       "  <tbody>\n",
       "    <tr>\n",
       "      <th>0</th>\n",
       "      <td>1.343750</td>\n",
       "      <td>92.0</td>\n",
       "    </tr>\n",
       "    <tr>\n",
       "      <th>1</th>\n",
       "      <td>1.597222</td>\n",
       "      <td>91.0</td>\n",
       "    </tr>\n",
       "    <tr>\n",
       "      <th>2</th>\n",
       "      <td>1.714286</td>\n",
       "      <td>90.0</td>\n",
       "    </tr>\n",
       "    <tr>\n",
       "      <th>3</th>\n",
       "      <td>1.543689</td>\n",
       "      <td>89.0</td>\n",
       "    </tr>\n",
       "    <tr>\n",
       "      <th>4</th>\n",
       "      <td>1.393162</td>\n",
       "      <td>88.0</td>\n",
       "    </tr>\n",
       "    <tr>\n",
       "      <th>...</th>\n",
       "      <td>...</td>\n",
       "      <td>...</td>\n",
       "    </tr>\n",
       "    <tr>\n",
       "      <th>71</th>\n",
       "      <td>1.842373</td>\n",
       "      <td>21.0</td>\n",
       "    </tr>\n",
       "    <tr>\n",
       "      <th>72</th>\n",
       "      <td>1.732310</td>\n",
       "      <td>20.0</td>\n",
       "    </tr>\n",
       "    <tr>\n",
       "      <th>73</th>\n",
       "      <td>1.742163</td>\n",
       "      <td>19.0</td>\n",
       "    </tr>\n",
       "    <tr>\n",
       "      <th>74</th>\n",
       "      <td>1.724901</td>\n",
       "      <td>18.0</td>\n",
       "    </tr>\n",
       "    <tr>\n",
       "      <th>75</th>\n",
       "      <td>1.757054</td>\n",
       "      <td>17.0</td>\n",
       "    </tr>\n",
       "  </tbody>\n",
       "</table>\n",
       "<p>76 rows × 2 columns</p>\n",
       "</div>"
      ],
      "text/plain": [
       "    avg_basket_size   age\n",
       "0          1.343750  92.0\n",
       "1          1.597222  91.0\n",
       "2          1.714286  90.0\n",
       "3          1.543689  89.0\n",
       "4          1.393162  88.0\n",
       "..              ...   ...\n",
       "71         1.842373  21.0\n",
       "72         1.732310  20.0\n",
       "73         1.742163  19.0\n",
       "74         1.724901  18.0\n",
       "75         1.757054  17.0\n",
       "\n",
       "[76 rows x 2 columns]"
      ]
     },
     "execution_count": 54,
     "metadata": {},
     "output_type": "execute_result"
    }
   ],
   "source": [
    "# âge vs panier moyen (nombre d'articles)\n",
    "# age vs size of average basket (number of items)\n",
    "\n",
    "basket = df_global[['birth', 'session_id','id_prod']].groupby(['birth','session_id']).count().reset_index()\n",
    "basket = basket.groupby(['birth']).mean().reset_index()\n",
    "basket['age'] = 2021 - basket['birth']\n",
    "basket.rename(columns={'id_prod':'avg_basket_size'}, inplace=True)\n",
    "basket.drop(['birth'], axis=1, inplace=True)\n",
    "basket"
   ]
  },
  {
   "cell_type": "code",
   "execution_count": 55,
   "id": "0a3523e6-e202-4c38-96da-7526b755fdb3",
   "metadata": {
    "tags": []
   },
   "outputs": [
    {
     "data": {
      "image/png": "[encoded data removed]",
      "text/plain": [
       "<Figure size 1080x360 with 1 Axes>"
      ]
     },
     "metadata": {
      "needs_background": "light"
     },
     "output_type": "display_data"
    },
    {
     "data": {
      "image/png": "[encoded data removed]",
      "text/plain": [
       "<Figure size 1080x360 with 1 Axes>"
      ]
     },
     "metadata": {
      "needs_background": "light"
     },
     "output_type": "display_data"
    }
   ],
   "source": [
    "# visualisation des données\n",
    "# visualizing data\n",
    "\n",
    "plt.figure(figsize=(15,5))\n",
    "plt.bar(basket['age'], basket['avg_basket_size'])\n",
    "\n",
    "plt.title('Age and Average basket size', fontsize=15)\n",
    "plt.xlabel('Age')\n",
    "plt.ylabel('Average basket size')\n",
    "\n",
    "plt.savefig(\n",
    "    fname='age_vs_avgbasket_distribution_1.jpg', dpi=100, format='jpg',\n",
    "    orientation='landscape', bbox_inches='tight')\n",
    "plt.show();\n",
    "\n",
    "plt.figure(figsize=(15,5))\n",
    "sns.regplot(x=basket['age'], y=basket['avg_basket_size'])\n",
    "\n",
    "plt.title('Age and Average basket size', fontsize=15)\n",
    "plt.xlabel('Age')\n",
    "plt.ylabel('Average basket size')\n",
    "\n",
    "plt.savefig(\n",
    "    fname='age_vs_avgbasket_distribution_2.jpg', dpi=100, format='jpg',\n",
    "    orientation='landscape', bbox_inches='tight')\n",
    "plt.show();"
   ]
  },
  {
   "cell_type": "markdown",
   "id": "bbf9b1a3-66f6-4f24-bf8b-b95b200ef007",
   "metadata": {},
   "source": [
    "Both variables are quantitative, using Pearson correlation."
   ]
  },
  {
   "cell_type": "code",
   "execution_count": 56,
   "id": "d40d369d-0d96-4355-8d6c-14168472ead6",
   "metadata": {},
   "outputs": [
    {
     "name": "stdout",
     "output_type": "stream",
     "text": [
      "Coefficient of linear correlation is: -0.5945228620310371\n",
      "R squared is: 0.3534574334775756\n",
      "p-value is: 1.4923805316935237e-08\n"
     ]
    }
   ],
   "source": [
    "# r value, Pearson linear correlation. OC course method \n",
    "\n",
    "print('Coefficient of linear correlation is: ' + str(st.pearsonr(basket['age'], basket['avg_basket_size'])[0]))\n",
    "print('R squared is: ' + str(st.pearsonr(basket['age'], basket['avg_basket_size'])[0]**2))\n",
    "print('p-value is: ' + str(st.pearsonr(basket['age'], basket['avg_basket_size'])[1]))"
   ]
  },
  {
   "cell_type": "code",
   "execution_count": 57,
   "id": "95feb788-7029-4aaa-9743-3156715d9bdc",
   "metadata": {},
   "outputs": [
    {
     "name": "stdout",
     "output_type": "stream",
     "text": [
      "r squared value is: 0.35345743347757613\n",
      "r value is: -0.5945228620310375\n"
     ]
    }
   ],
   "source": [
    "# r value, Pearson linear correlation. Using scipy.stats\n",
    "\n",
    "data4 = [basket.age.values, basket.avg_basket_size.values]\n",
    "\n",
    "slope, intercept, r_value, p_value, std_err = st.linregress(data4)\n",
    "print('r squared value is: ' + str(r_value**2))\n",
    "print('r value is: ' + str(r_value))"
   ]
  },
  {
   "cell_type": "markdown",
   "id": "e5927f17-cde7-4b04-a742-73f4ae4dfafe",
   "metadata": {},
   "source": [
    "#### Conclusions âge vs panier moyen :\n",
    "Le coefficient de corrélation de Pearsons de -0.59 montre une **corrélation négative moyenne**. Plus l'âge augmente, plus le nombre moyen d'articles dans le panier d'achat diminue et vice versa.\\\n",
    "La visualisation nous montre la distribution des dépenses dans chaque groupe d'âge, ainsi que 3 groupes distincts (18-29 ans, 30-49 ans et 50-95 ans) en termes de nombre moyen d'articles achetés. \n",
    "Une autre visualisation avec la ligne de régression confirme la valeur r (corrélation négative moyenne), et nous montre qu'il y a plus de variance avec les jeunes clients et beaucoup moins avec les plus âgés.\n",
    "\n",
    "Conclusions:\\\n",
    "Pearsons correlation coefficient of -0.59 shows **medium negative correlation**. As age increases, average number of items in the shopping basket decreases and vice versa.\\\n",
    "Visualization shows us distribution of spending in each age group, as well as 3 distinct clusters (ages 18-29, 30-49 and 50-95) in terms of average number of items purchased. \n",
    "Another visualization with regression line confirms r value (medium negative correlation), plus shows us there is more variance with younger customers and much less with older ones."
   ]
  },
  {
   "cell_type": "code",
   "execution_count": 58,
   "id": "d7a8ff6b-2736-42dd-80ab-fc0602bee3ca",
   "metadata": {},
   "outputs": [
    {
     "data": {
      "text/html": [
       "<div>\n",
       "<style scoped>\n",
       "    .dataframe tbody tr th:only-of-type {\n",
       "        vertical-align: middle;\n",
       "    }\n",
       "\n",
       "    .dataframe tbody tr th {\n",
       "        vertical-align: top;\n",
       "    }\n",
       "\n",
       "    .dataframe thead th {\n",
       "        text-align: right;\n",
       "    }\n",
       "</style>\n",
       "<table border=\"1\" class=\"dataframe\">\n",
       "  <thead>\n",
       "    <tr style=\"text-align: right;\">\n",
       "      <th></th>\n",
       "      <th>categ</th>\n",
       "      <th>age</th>\n",
       "    </tr>\n",
       "  </thead>\n",
       "  <tbody>\n",
       "    <tr>\n",
       "      <th>0</th>\n",
       "      <td>0.0</td>\n",
       "      <td>49.0</td>\n",
       "    </tr>\n",
       "    <tr>\n",
       "      <th>1</th>\n",
       "      <td>0.0</td>\n",
       "      <td>49.0</td>\n",
       "    </tr>\n",
       "    <tr>\n",
       "      <th>2</th>\n",
       "      <td>0.0</td>\n",
       "      <td>49.0</td>\n",
       "    </tr>\n",
       "    <tr>\n",
       "      <th>3</th>\n",
       "      <td>0.0</td>\n",
       "      <td>49.0</td>\n",
       "    </tr>\n",
       "    <tr>\n",
       "      <th>4</th>\n",
       "      <td>1.0</td>\n",
       "      <td>49.0</td>\n",
       "    </tr>\n",
       "    <tr>\n",
       "      <th>...</th>\n",
       "      <td>...</td>\n",
       "      <td>...</td>\n",
       "    </tr>\n",
       "    <tr>\n",
       "      <th>336833</th>\n",
       "      <td>0.0</td>\n",
       "      <td>62.0</td>\n",
       "    </tr>\n",
       "    <tr>\n",
       "      <th>336834</th>\n",
       "      <td>2.0</td>\n",
       "      <td>27.0</td>\n",
       "    </tr>\n",
       "    <tr>\n",
       "      <th>336835</th>\n",
       "      <td>1.0</td>\n",
       "      <td>25.0</td>\n",
       "    </tr>\n",
       "    <tr>\n",
       "      <th>336836</th>\n",
       "      <td>2.0</td>\n",
       "      <td>25.0</td>\n",
       "    </tr>\n",
       "    <tr>\n",
       "      <th>336837</th>\n",
       "      <td>2.0</td>\n",
       "      <td>20.0</td>\n",
       "    </tr>\n",
       "  </tbody>\n",
       "</table>\n",
       "<p>313552 rows × 2 columns</p>\n",
       "</div>"
      ],
      "text/plain": [
       "        categ   age\n",
       "0         0.0  49.0\n",
       "1         0.0  49.0\n",
       "2         0.0  49.0\n",
       "3         0.0  49.0\n",
       "4         1.0  49.0\n",
       "...       ...   ...\n",
       "336833    0.0  62.0\n",
       "336834    2.0  27.0\n",
       "336835    1.0  25.0\n",
       "336836    2.0  25.0\n",
       "336837    2.0  20.0\n",
       "\n",
       "[313552 rows x 2 columns]"
      ]
     },
     "execution_count": 58,
     "metadata": {},
     "output_type": "execute_result"
    }
   ],
   "source": [
    "# age et catégorie de produit\n",
    "# age vs prod_category\n",
    "\n",
    "age_prod2 = df_global[['categ', 'birth']].copy()\n",
    "age_prod2['age'] = 2022 - age_prod2['birth']\n",
    "\n",
    "age_prod2.dropna(inplace=True)\n",
    "age_prod2.drop(columns=['birth'], inplace=True)\n",
    "\n",
    "age_prod2"
   ]
  },
  {
   "cell_type": "code",
   "execution_count": 59,
   "id": "cec3358a-3441-488c-85d5-37b9a24d9ac6",
   "metadata": {},
   "outputs": [
    {
     "data": {
      "image/png": "[encoded data removed]",
      "text/plain": [
       "<Figure size 720x504 with 1 Axes>"
      ]
     },
     "metadata": {
      "needs_background": "light"
     },
     "output_type": "display_data"
    }
   ],
   "source": [
    "# visualisation des données\n",
    "# visualizing data\n",
    "\n",
    "X = \"categ\" # qualitative\n",
    "Y = \"age\" # quantitative\n",
    "\n",
    "modalites = age_prod2[X].unique()\n",
    "groupes = []\n",
    "for m in modalites:\n",
    "    groupes.append(age_prod2[age_prod2[X]==m][Y])\n",
    "\n",
    "# Propriétés graphiques \n",
    "medianprops = {'color':\"black\"}\n",
    "meanprops = {'marker':'o', 'markeredgecolor':'black',\n",
    "            'markerfacecolor':'firebrick'}\n",
    "\n",
    "plt.figure(figsize=(10,7))\n",
    "\n",
    "plt.boxplot(groupes,\n",
    "            labels=modalites, showfliers=False, medianprops=medianprops, \n",
    "            vert=False, patch_artist=True, showmeans=True, meanprops=meanprops)\n",
    "\n",
    "plt.title('Product category and age', fontsize=15)\n",
    "plt.xlabel('Age')\n",
    "plt.ylabel('Product category')\n",
    "\n",
    "plt.savefig(\n",
    "    fname='age_vs_prod_category1.jpg', dpi=100, format='jpg',\n",
    "    orientation='landscape', bbox_inches='tight')\n",
    "\n",
    "plt.show();"
   ]
  },
  {
   "cell_type": "code",
   "execution_count": 60,
   "id": "afdf90a1-7c17-42a8-8a0c-962c5aef2675",
   "metadata": {},
   "outputs": [
    {
     "data": {
      "image/png": "[encoded data removed]",
      "text/plain": [
       "<Figure size 1440x720 with 1 Axes>"
      ]
     },
     "metadata": {
      "needs_background": "light"
     },
     "output_type": "display_data"
    }
   ],
   "source": [
    "age_prod = pd.crosstab(df_global.birth, df_global.categ,\n",
    "                       rownames=['DOB'], colnames=['product_category']).reset_index()\n",
    "\n",
    "age_prod['age'] = 2021 - age_prod['DOB']\n",
    "age_prod.drop(['DOB'], axis=1, inplace=True)\n",
    "\n",
    "fig, ax = plt.subplots(figsize=(20,10))\n",
    "\n",
    "sns.heatmap(age_prod.iloc[:,:-1].transpose(),\n",
    "            annot=False, square=True, cbar=False)\n",
    "\n",
    "plt.title('Heatmap of product categories relative to age', fontsize=15)\n",
    "plt.xlabel('Age')\n",
    "plt.ylabel('Product category')\n",
    "\n",
    "plt.savefig(fname='age_vs_prod_category2.jpg', dpi=100, format='jpg',\n",
    "            orientation='landscape', bbox_inches='tight')\n",
    "plt.show();"
   ]
  },
  {
   "cell_type": "markdown",
   "id": "d683a38c-b768-4a2f-974b-baf571923b9b",
   "metadata": {},
   "source": [
    "Category is qualitative variable, age is quantitative. We apply eta squared here."
   ]
  },
  {
   "cell_type": "code",
   "execution_count": 61,
   "id": "08e0e265-b10c-4275-8056-1fff26c9046d",
   "metadata": {},
   "outputs": [
    {
     "data": {
      "text/plain": [
       "0.11281696159849361"
      ]
     },
     "execution_count": 61,
     "metadata": {},
     "output_type": "execute_result"
    }
   ],
   "source": [
    "# eta squared. OC method\n",
    "\n",
    "X = \"categ\" # qualitative\n",
    "Y = \"montant\" # quantitative\n",
    "\n",
    "def eta_squared(x,y):\n",
    "    moyenne_y = y.mean()\n",
    "    classes = []\n",
    "    for classe in x.unique():\n",
    "        yi_classe = y[x==classe]\n",
    "        classes.append({'ni': len(yi_classe),\n",
    "                        'moyenne_classe': yi_classe.mean()})\n",
    "    SCT = sum([(yj-moyenne_y)**2 for yj in y])\n",
    "    SCE = sum([c['ni']*(c['moyenne_classe']-moyenne_y)**2 for c in classes])\n",
    "    return SCE/SCT\n",
    "    \n",
    "eta_squared(age_prod2['categ'], age_prod2['age'])"
   ]
  },
  {
   "cell_type": "markdown",
   "id": "35e94345-c9c2-41c0-9d84-382a0b2cc32c",
   "metadata": {
    "tags": []
   },
   "source": [
    "#### Conclusions age et catégorie de produit :\n",
    "Une valeur de 0.11 pour l'eta au carré signifie que l'âge a un effet de taille moyenne sur la catégorie de produits achetés.\n",
    "En d'autres termes, l'âge du client affecte la catégorie de produits qu'il achète (sur la base des valeurs de https://www.statology.org/eta-squared/).\n",
    "\n",
    "Conclusions :\n",
    "\n",
    "A value of 0.11 for eta squared means there is medium effect size of age on product category purchased.\n",
    "In other words, age of customer affects what product category will be purchased (based on the values from https://www.statology.org/eta-squared/)"
   ]
  },
  {
   "cell_type": "markdown",
   "id": "1dcb08ce-caf6-4c7a-bb6e-8be516386842",
   "metadata": {},
   "source": [
    "### Conclusions générales après l'analyse effectuée :\n",
    "\n",
    "Notre librairie \"Rester livres\" affiche une bonne croissance de ses revenus.\n",
    "Parmi nos clients, nous pouvons distinguer 3 groupes principaux. Les personnes âgées de\n",
    "- 18-29\n",
    "- 30-55\n",
    "- plus de 56 ans\n",
    "\n",
    "La répartition des produits nous montre que les différentes catégories sont populaires parmi les différents âges. La catégorie 2 est populaire auprès des jeunes clients, la catégorie 0 auprès des personnes d'âge moyen et la catégorie 1 auprès de tous les groupes d'âge.\n",
    "En moyenne, les clients âgés de 30 à 50 ans achètent plus d'articles par commande, suivis par les clients plus jeunes et les plus âgés qui achètent le moins. Cependant, les données montrent également une variance, suggérant que les clients plus âgés achètent parfois plus de livres, ce qui peut être lié à des cadeaux.\n",
    "\n",
    "Nous avons trouvé 2 anomalies dans les données. Une baisse des ventes en octobre 2021, et un produit qui a été acheté plusieurs fois, mais sans aucune donnée de prix.\n",
    "L'enquête sur octobre 2021 nous a montré une baisse significative des ventes globales, qui s'est naturellement traduite par une baisse des revenus. On peut supposer que cela peut être lié à la période des fêtes et à la période \"calme\" avant les grands achats.\n",
    "La recherche d'un article inconnu a donné l'identifiant 0_2245, qui a été acheté 103 fois au cours de l'année.\n",
    "\n",
    "L'analyse statistique a montré que le montant dépensé, la fréquence des achats, le panier moyen, la catégorie du produit et l'âge sont corrélés entre eux. Sur la base de ces informations, nous pouvons planifier les nouvelles versions, les promotions et les campagnes publicitaires.\n",
    "\n",
    "\n",
    "General conclusions after performed analysis:\n",
    "\n",
    "Our bookshop \"Rester livres\" shows good revenue growth.\n",
    "Among our customers we can distinctly see 3 main clusters. People aged:\n",
    "- 18-29\n",
    "- 30-55\n",
    "- older than 56\n",
    "\n",
    "Product breakdown shows us that various categories are popular among various ages. With prod_cat 2 being popular with younger customers, prod_cat 0 popular among middle ages and prod_cat 1 being universally purchased among all ages.\n",
    "On average customers aged 30-50 are buying more items per order, followed by younger customers and older ones buying the least. However data also shows us variance, suggesting that older customers sometimes buy more books, which can be connected to gifting.\n",
    "\n",
    "We found 2 anomalies in the data. A drop in sales in October 2021, and a product that was purchased many times, but without any pricing data.\n",
    "Investigation about October 2021 showed us significant drop of overall sales, which naturally translated in lower revenue. As an assumption, this can be connected to holiday season and \"quiet\" period before big shopping.\n",
    "Looking into unknown item yielded id 0_2245, which was purchased 103 times over the year.\n",
    "\n",
    "Statistical analysis showed that the amount spent, frequency of purchases, average basket size, category of the product and age are correlated between each other. Based on this information we can plan new releases, promotions and ad campaigns."
   ]
  },
  {
   "cell_type": "markdown",
   "id": "48607069-333d-4af4-9461-deae310024e0",
   "metadata": {
    "tags": []
   },
   "source": [
    "# README"
   ]
  },
  {
   "cell_type": "markdown",
   "id": "618a2bc3",
   "metadata": {},
   "source": [
    "Nettoyage, exploration et analyse des données\n",
    "\n",
    "Étape 1\n",
    "\n",
    "Importez les bibliothèques python nécessaires.\n",
    "Définir le répertoire de travail comme un dossier contenant les données brutes.\n",
    "Charger les données brutes dans des cadres de données Pandas.\n",
    "Explorer les données brutes pour mieux les comprendre.\n",
    "Effectuer le nettoyage si nécessaire.\n",
    "\n",
    "Étape 2\n",
    "\n",
    "Fusionnez toutes les données brutes en un seul cadre de données.\n",
    "Visualisez les statistiques pertinentes pour notre cas:\\\n",
    "\t- données démographiques sur l'âge (moyenne, mode, distribution et valeurs aberrantes)\\\n",
    "\t- répartition par sexe\\\n",
    "\t- séries chronologiques des ventes\\\n",
    "\t- mesures de tendance centrale et de dispersion pour nos produits\\\n",
    "\t- mesure de la concentration via l'indice de Gini et la courbe de Lorenz.\n",
    "\n",
    "Étape 3\n",
    "\n",
    "Calculer et visualiser les différents types de corrélations dans nos données.\n",
    "\n",
    "----------\n",
    "\n",
    "Data cleaning, exploration and analysis\n",
    "\n",
    "Step 1\n",
    "\n",
    "Import necessary python libraries.\n",
    "Set working directory as a folder with raw data.\n",
    "Load raw data into Pandas dataframes.\n",
    "Explore raw data to gain better understanding about it.\n",
    "Perform cleaning where necessary.\n",
    "\n",
    "Step 2\n",
    "\n",
    "Merge all raw data into single dataframe.\n",
    "Visualize statistics relevant to our case:\\\n",
    "\t- age demographics (mean, mode, distribution and outliers)\\\n",
    "\t- gender distribution\\\n",
    "\t- time series of sales\\\n",
    "\t- measures of central tendency and dispersion for our products\\\n",
    "\t- measure of concentration via Gini index and Lorenz curve\n",
    "\n",
    "Step 3\n",
    "\n",
    "Calculate and visualize various types of correlations in our data."
   ]
  },
  {
   "cell_type": "code",
   "execution_count": null,
   "id": "4b28e85c-061f-4efc-b948-35691c572d21",
   "metadata": {},
   "outputs": [],
   "source": []
  }
 ],
 "metadata": {
  "kernelspec": {
   "display_name": "Python 3",
   "language": "python",
   "name": "python3"
  },
  "language_info": {
   "codemirror_mode": {
    "name": "ipython",
    "version": 3
   },
   "file_extension": ".py",
   "mimetype": "text/x-python",
   "name": "python",
   "nbconvert_exporter": "python",
   "pygments_lexer": "ipython3",
   "version": "3.8.8"
  },
  "toc-autonumbering": false,
  "toc-showcode": false,
  "toc-showmarkdowntxt": false,
  "toc-showtags": false
 },
 "nbformat": 4,
 "nbformat_minor": 5
}
